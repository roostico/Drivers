{
 "cells": [
  {
   "cell_type": "markdown",
   "id": "cefe988a9aff7538",
   "metadata": {},
   "source": [
    "# Big Data project A.Y. 2024-2025 - First Job\n",
    "\n",
    "## Members\n",
    "\n",
    "- Giovanni Antonioni\n",
    "- Luca Rubboli - 0001083742"
   ]
  },
  {
   "cell_type": "code",
   "id": "c9c769832012f1b0",
   "metadata": {
    "ExecuteTime": {
     "end_time": "2025-07-04T15:01:11.173148Z",
     "start_time": "2025-07-04T15:00:55.695140Z"
    }
   },
   "source": [
    "import org.apache.spark.sql.SparkSession\n",
    "\n",
    "val spark = SparkSession.builder\n",
    "  .appName(\"First job\")\n",
    "  .getOrCreate()\n",
    "\n",
    "val sc = spark.sparkContext"
   ],
   "outputs": [
    {
     "data": {
      "text/plain": [
       "Intitializing Scala interpreter ..."
      ]
     },
     "metadata": {},
     "output_type": "display_data"
    },
    {
     "data": {
      "text/plain": [
       "Spark Web UI available at http://10.201.100.248:4042\n",
       "SparkContext available as 'sc' (version = 3.5.1, master = local[*], app id = local-1751641259915)\n",
       "SparkSession available as 'spark'\n"
      ]
     },
     "metadata": {},
     "output_type": "display_data"
    },
    {
     "data": {
      "text/plain": [
       "import org.apache.spark.sql.SparkSession\n",
       "spark: org.apache.spark.sql.SparkSession = org.apache.spark.sql.SparkSession@55ea81c6\n",
       "sc: org.apache.spark.SparkContext = org.apache.spark.SparkContext@781dccb4\n"
      ]
     },
     "execution_count": 1,
     "metadata": {},
     "output_type": "execute_result"
    }
   ],
   "execution_count": 1
  },
  {
   "cell_type": "markdown",
   "id": "72ce3e263b662de6",
   "metadata": {},
   "source": [
    "### Define useful parameters\n",
    "\n",
    "- Dataset location\n",
    "- Directories\n",
    "- Iterator (defined like this to overcome different names for same columns in dataset)"
   ]
  },
  {
   "cell_type": "code",
   "id": "initial_id",
   "metadata": {
    "ExecuteTime": {
     "end_time": "2025-07-04T15:01:13.374866Z",
     "start_time": "2025-07-04T15:01:11.177279Z"
    }
   },
   "source": [
    "val decimals: Int = 4\n",
    "val minimumYearDataset = 2024\n",
    "val projectDir: String = \"/Users/luca/Desktop/Luca/Università/Magistrale/Corsi/BigData/Drivers\"\n",
    "val datasetDir = \"dataset\"\n",
    "val outputDir = \"output/firstJobOutput\"\n",
    "val yellowDatasetDir = s\"$datasetDir/yellow_cab\"\n",
    "val greenDatasetDir = s\"$datasetDir/green_cab\"\n",
    "val fhvDatasetDir = s\"$datasetDir/fhv_cab\"\n",
    "val fhvhvDatasetDir = s\"$datasetDir/fhvhv_cab\"\n",
    "val datasetDirMap: Map[String, String] = Map(\"yellow\" -> yellowDatasetDir, \"green\" -> greenDatasetDir, \"fhv\" -> fhvDatasetDir, \"fhvhv\" -> fhvhvDatasetDir)\n",
    "val datasetIterator: Map[String, (String, String)] = Map(\n",
    "  \"yellow\" -> (\"tpep_dropoff_datetime\", \"tpep_pickup_datetime\"),\n",
    "  \"green\" -> (\"lpep_dropoff_datetime\", \"lpep_pickup_datetime\"),\n",
    "  // (\"fhv\", \"tpep_dropoff_datetime\", \"tpep_pickup_datetime\"),\n",
    "  // (\"fhvhv\", \"tpep_dropoff_datetime\", \"tpep_pickup_datetime\"),\n",
    ")"
   ],
   "outputs": [
    {
     "data": {
      "text/plain": [
       "decimals: Int = 4\n",
       "minimumYearDataset: Int = 2024\n",
       "projectDir: String = /Users/luca/Desktop/Luca/Università/Magistrale/Corsi/BigData/Drivers\n",
       "datasetDir: String = dataset\n",
       "outputDir: String = output/firstJobOutput\n",
       "yellowDatasetDir: String = dataset/yellow_cab\n",
       "greenDatasetDir: String = dataset/green_cab\n",
       "fhvDatasetDir: String = dataset/fhv_cab\n",
       "fhvhvDatasetDir: String = dataset/fhvhv_cab\n",
       "datasetDirMap: Map[String,String] = Map(yellow -> dataset/yellow_cab, green -> dataset/green_cab, fhv -> dataset/fhv_cab, fhvhv -> dataset/fhvhv_cab)\n",
       "datasetIterator: Map[String,(String, String)] = Map(yellow -> (tpep_dropoff_datetime,tpep_pickup_datetime), green -> (lpep_dropoff_datetime,lpep_pickup_datetime))\n"
      ]
     },
     "execution_count": 2,
     "metadata": {},
     "output_type": "execute_result"
    }
   ],
   "execution_count": 2
  },
  {
   "cell_type": "markdown",
   "id": "801ff1e945bd4c8",
   "metadata": {},
   "source": [
    "## Define Columns for analysis\n",
    "- Columns names\n",
    "- Time zones for overprice\n",
    "- Columns used in classification for average price calculation\n",
    "- Columns which values are used in analysis"
   ]
  },
  {
   "cell_type": "code",
   "id": "bfdb3f87a1c6a6c8",
   "metadata": {
    "ExecuteTime": {
     "end_time": "2025-07-04T15:01:14.315293Z",
     "start_time": "2025-07-04T15:01:13.380378Z"
    }
   },
   "source": [
    "val colDurationMinutes: String = \"duration_minutes\"\n",
    "val colDurationMinutesBinLabel: String = \"duration_minutes_bin_label\"\n",
    "val colYear: String = \"year\"\n",
    "val colWeekdaySurcharge: String = \"weekday_surcharge\"\n",
    "val colAggregateFee: String = \"fees\"\n",
    "val colAggregateFeeBin: String = \"agg_fee_bin_label\"\n",
    "val colDistanceBin: String = \"distance_bin_label\"\n",
    "val colFareAmount: String = \"fare_amount\"\n",
    "val colPricePerDistance: String = \"cost_per_distance\"\n",
    "val colPricePerTime: String = \"cost_per_time\"\n",
    "val colAvgPricePerDistance: String = \"avg_cost_per_distance\"\n",
    "val colAvgPricePerTime: String = \"avg_cost_per_time\"\n",
    "val colPricePerDistanceDiff: String = \"cost_per_distance_diff\"\n",
    "val colPricePerDistanceDiffPcg: String = \"cost_per_distance_diff_pcg\"\n",
    "val colPricePerTimeDiff: String = \"cost_per_time_diff\"\n",
    "val colPricePerTimeDiffPcg: String = \"cost_per_time_diff_pcg\"\n",
    "val colPricePerDistanceDiffPcgLabel: String = colPricePerDistanceDiffPcg + \"_label\"\n",
    "val colPricePerTimeDiffPcgLabel: String = colPricePerTimeDiffPcg + \"_label\"\n",
    "\n",
    "val timeZoneOver: String = \"overnight\"\n",
    "val timeZones = Map(timeZoneOver -> (20, 6), \"regular\" -> (6, 20))\n",
    "val weekDaySurcharge: Double = 2.5\n",
    "\n",
    "val colDurationOvernightPcg: String = s\"${timeZoneOver}_duration_pcg\"\n",
    "\n",
    "val colToUse: Set[String] = Set(\n",
    "  \"tpep_pickup_datetime\",\n",
    "  \"tpep_dropoff_datetime\",\n",
    "  \"lpep_pickup_datetime\",\n",
    "  \"lpep_dropoff_datetime\",\n",
    "  \"passenger_count\",\n",
    "  \"trip_distance\",\n",
    "  \"ratecodeid\",\n",
    "  \"store_and_fwd_flag\",\n",
    "  \"payment_type\",\n",
    "  \"fare_amount\",\n",
    "  \"extra\",\n",
    "  \"mta_tax\",\n",
    "  \"tip_amount\",\n",
    "  \"tolls_amount\",\n",
    "  \"improvement_surcharge\",\n",
    "  \"total_amount\",\n",
    "  \"congestion_surcharge\",\n",
    "  \"airport_fee\")\n",
    "\n",
    "val colFees: Set[String] = Set(\n",
    "  \"extra\",\n",
    "  \"mta_tax\",\n",
    "  \"improvement_surcharge\",\n",
    "  \"congestion_surcharge\",\n",
    "  \"airport_fee\")\n",
    "\n",
    "val colsForClassification: Seq[String] = Seq(\n",
    "  \"passenger_count\",\n",
    "  \"store_and_fwd_flag\",\n",
    "  \"payment_type\",\n",
    "  colAggregateFeeBin,\n",
    "  colDurationMinutesBinLabel,\n",
    "  colDistanceBin,\n",
    "  colYear,\n",
    "  s\"${colDurationOvernightPcg}_label\",\n",
    "  colPricePerDistanceDiffPcgLabel,\n",
    "  colPricePerTimeDiffPcgLabel\n",
    ")\n",
    "\n",
    "val colsForValuesAnalysis: Seq[String] = Seq(\n",
    "  \"passenger_count\",\n",
    "  \"store_and_fwd_flag\",\n",
    "  \"payment_type\",\n",
    "  colAggregateFeeBin,\n",
    "  colDurationMinutesBinLabel,\n",
    "  colDistanceBin,\n",
    "  colYear,\n",
    "  s\"${colDurationOvernightPcg}_label\",\n",
    ")"
   ],
   "outputs": [
    {
     "data": {
      "text/plain": [
       "colDurationMinutes: String = duration_minutes\n",
       "colDurationMinutesBinLabel: String = duration_minutes_bin_label\n",
       "colYear: String = year\n",
       "colWeekdaySurcharge: String = weekday_surcharge\n",
       "colAggregateFee: String = fees\n",
       "colAggregateFeeBin: String = agg_fee_bin_label\n",
       "colDistanceBin: String = distance_bin_label\n",
       "colFareAmount: String = fare_amount\n",
       "colPricePerDistance: String = cost_per_distance\n",
       "colPricePerTime: String = cost_per_time\n",
       "colAvgPricePerDistance: String = avg_cost_per_distance\n",
       "colAvgPricePerTime: String = avg_cost_per_time\n",
       "colPricePerDistanceDiff: String = cost_per_distance_diff\n",
       "colPricePerDistanceDiffPcg: String = cost_per_distance_diff_pcg\n",
       "colPricePerTimeDiff: String = cost_per_time_diff\n",
       "colPricePerTimeDiffPcg: String = cost_per_time_diff_pcg\n",
       "colPricePerDistanceDiffPcgLabel: String = ...\n"
      ]
     },
     "execution_count": 3,
     "metadata": {},
     "output_type": "execute_result"
    }
   ],
   "execution_count": 3
  },
  {
   "cell_type": "markdown",
   "id": "6251e1a01e2d34a6",
   "metadata": {},
   "source": [
    "### Define preprocess rules"
   ]
  },
  {
   "cell_type": "code",
   "id": "f3c66b94d590de92",
   "metadata": {
    "ExecuteTime": {
     "end_time": "2025-07-04T15:01:15.687125Z",
     "start_time": "2025-07-04T15:01:14.321147Z"
    }
   },
   "source": [
    "import java.time.LocalDateTime\n",
    "\n",
    "val featureFilters: Map[String, Any => Boolean] = Map(\n",
    "  \"passenger_count\" -> {\n",
    "    case i: Int => i > 0\n",
    "    case f: Float => val i = f.toInt; i > 0\n",
    "    case d: Double => val i = d.toInt; i > 0\n",
    "    case _ => false\n",
    "  },\n",
    "  \"trip_distance\" -> {\n",
    "    case i: Int => i > 0\n",
    "    case i: Float => i > 0\n",
    "    case i: Double => i > 0\n",
    "    case _ => false\n",
    "  },\n",
    "  \"ratecodeid\" -> {\n",
    "    case i: Int => (i >= 1 && i <= 6) || i == 99\n",
    "    case f: Float => val i = f.toInt; (i >= 1 && i <= 6) || i == 99\n",
    "    case d: Double => val i = d.toInt; (i >= 1 && i <= 6) || i == 99\n",
    "    case _ => false\n",
    "  },\n",
    "  \"store_and_fwd_flag\" -> {\n",
    "    case i: String => i == \"Y\" || i == \"N\"\n",
    "    case _ => false\n",
    "  },\n",
    "  \"payment_type\" -> {\n",
    "    case i: Int => i >= 1 && i <= 6\n",
    "    case f: Float => val i = f.toInt; i >= 1 && i <= 6\n",
    "    case d: Double => val i = d.toInt; i >= 1 && i <= 6\n",
    "    case _ => false\n",
    "  },\n",
    "  \"fare_amount\" -> {\n",
    "    case i: Int => i > 0\n",
    "    case i: Float => i > 0\n",
    "    case i: Double => i > 0\n",
    "    case _ => false\n",
    "  },\n",
    "  \"tolls_amount\" -> {\n",
    "    case i: Int => i >= 0 && i < 200\n",
    "    case i: Float => i >= 0 && i < 200\n",
    "    case i: Double => i >= 0 && i < 200\n",
    "    case _ => false\n",
    "  }\n",
    ")\n",
    "\n",
    "val taxFilter: Any => Boolean = {\n",
    "  case tax: Int => tax >= 0 && tax < 20\n",
    "  case tax: Float => tax >= 0 && tax < 20\n",
    "  case tax: Double => tax >= 0 && tax < 20\n",
    "  case _ => false\n",
    "}\n",
    "\n",
    "val dateFilter: (Any, Int) => Boolean = {\n",
    "  case (date: LocalDateTime, minimumYearDataset: Int) => val year: Int = date.getYear; year >= minimumYearDataset && year <= LocalDateTime.now().getYear\n",
    "  case _ => false\n",
    "}"
   ],
   "outputs": [
    {
     "data": {
      "text/plain": [
       "import java.time.LocalDateTime\n",
       "featureFilters: Map[String,Any => Boolean] = Map(trip_distance -> $Lambda$2420/0x00000008010ae040@67f61ebc, tolls_amount -> $Lambda$2425/0x00000008010b1840@4327e59c, payment_type -> $Lambda$2423/0x00000008010b0040@3bc27809, fare_amount -> $Lambda$2424/0x00000008010b1040@29f3d2a6, passenger_count -> $Lambda$2419/0x00000008010ad040@7ea73ada, store_and_fwd_flag -> $Lambda$2422/0x00000008010af840@2502b97, ratecodeid -> $Lambda$2421/0x00000008010ae840@2afa19e4)\n",
       "taxFilter: Any => Boolean = $Lambda$2426/0x00000008010b2840@1dab88ff\n",
       "dateFilter: (Any, Int) => Boolean = $Lambda$2427/0x00000008010b3040@5a1d007a\n"
      ]
     },
     "execution_count": 4,
     "metadata": {},
     "output_type": "execute_result"
    }
   ],
   "execution_count": 4
  },
  {
   "cell_type": "markdown",
   "id": "46150dfaa1006964",
   "metadata": {},
   "source": [
    "### Utils functions for rdd"
   ]
  },
  {
   "cell_type": "code",
   "id": "9aae38423ac3200c",
   "metadata": {
    "ExecuteTime": {
     "end_time": "2025-07-04T15:01:17.777020Z",
     "start_time": "2025-07-04T15:01:15.692341Z"
    }
   },
   "source": [
    "import java.time.temporal.ChronoUnit\n",
    "import java.time.{DayOfWeek, LocalDate}\n",
    "import org.apache.spark.rdd.RDD\n",
    "import org.apache.spark.sql.Row\n",
    "import scala.math.BigDecimal.RoundingMode\n",
    "\n",
    "def getDatasetPath(localPath: String): String = {\n",
    "  \"file://\" + projectDir + \"/\" + localPath\n",
    "}\n",
    "\n",
    "def binColByStepValue(rdd: RDD[Row], indexOfColToDiscrete: Int, stepValue: Int = 5): RDD[Row] = {\n",
    "  rdd\n",
    "    .map { row =>\n",
    "      val value: Double = row.get(indexOfColToDiscrete) match {\n",
    "        case i: Int => i.toDouble\n",
    "        case d: Double => d\n",
    "        case l: Long => l.toDouble\n",
    "        case s: String => try { s.toDouble } catch { case _: Throwable => Double.NaN}\n",
    "        case _ => Double.NaN\n",
    "      }\n",
    "\n",
    "      val rawBin = (value / stepValue).toInt * stepValue\n",
    "      val binBase = if (value < 0 && value % stepValue == 0) rawBin + stepValue else rawBin\n",
    "      val label = if (value < 0) { s\"[${(binBase - stepValue).toInt}|${binBase.toInt})\" } else { s\"[${binBase.toInt}|${(binBase + stepValue).toInt})\" }\n",
    "\n",
    "      Row.fromSeq(row.toSeq :+ label)\n",
    "    }\n",
    "}\n",
    "\n",
    "val castForFilter: Any => Any = {\n",
    "  case s: String => if (s.matches(\"\"\"^-?\\d+\\.\\d+$\"\"\")) s.toDouble else if (s.matches(\"\"\"^-?\\d+$\"\"\")) s.toInt else s.trim\n",
    "  case d: Double => d\n",
    "  case i: Int => i\n",
    "  case l: Long => l.toDouble\n",
    "  case f: Float => f.toDouble\n",
    "  case b: Boolean => b\n",
    "  case null => null\n",
    "  case other => other.toString.trim\n",
    "}\n",
    "\n",
    "val preciseBucketUDF: (Map[String, (Int, Int)], LocalDateTime, LocalDateTime, Int) => Map[String, Double] = { (timeZones: Map[String, (Int, Int)], start: LocalDateTime, end: LocalDateTime, decimals: Int) =>\n",
    "\n",
    "  val overlap: (LocalDateTime, LocalDateTime, LocalDateTime, LocalDateTime, Int) => Double = { (start1: LocalDateTime, end1: LocalDateTime, start2: LocalDateTime, end2: LocalDateTime, decimals: Int) =>\n",
    "    val overlapStart = if (start1.isAfter(start2)) start1 else start2\n",
    "    val overlapEnd = if (end1.isBefore(end2)) end1 else end2\n",
    "    if (overlapEnd.isAfter(overlapStart)) BigDecimal(ChronoUnit.MILLIS.between(overlapStart, overlapEnd) / 60000.0).setScale(decimals, RoundingMode.HALF_UP).toDouble else 0.0\n",
    "  }\n",
    "\n",
    "  var result = timeZones.keys.map(_ -> 0.0).toMap\n",
    "\n",
    "  if (!(start == null || end == null)) {\n",
    "\n",
    "    if (!end.isBefore(start)) {\n",
    "\n",
    "      var current = start.toLocalDate.atStartOfDay\n",
    "\n",
    "      while (!current.isAfter(end)) {\n",
    "        val nextDay = current.plusDays(1)\n",
    "\n",
    "        timeZones\n",
    "          .foreach {\n",
    "            case (label, (startHour, endHour)) if startHour > endHour => {\n",
    "              val bucketStartBeforeMidnight = current.withHour(startHour).withMinute(0).withSecond(0).withNano(0)\n",
    "              val bucketEndBeforeMidnight = current.withHour(23).withMinute(59).withSecond(59)\n",
    "              val bucketStartAfterMidnight = current.withHour(0).withMinute(0).withSecond(0).withNano(0)\n",
    "              val bucketEndAfterMidnight = current.withHour(endHour).withMinute(0).withSecond(0).withNano(0)\n",
    "\n",
    "              val minutesBeforeMidnight = overlap(start, end, bucketStartBeforeMidnight, bucketEndBeforeMidnight, decimals)\n",
    "              val minutesAfterMidnight = overlap(start, end, bucketStartAfterMidnight, bucketEndAfterMidnight, decimals)\n",
    "\n",
    "              result = result.updated(label, result(label) + minutesBeforeMidnight + minutesAfterMidnight)\n",
    "            }\n",
    "            case (label, (startHour, endHour)) => {\n",
    "              val bucketStart = current.withHour(startHour).withMinute(0).withSecond(0).withNano(0)\n",
    "              val bucketEnd = if (endHour == 24) current.plusDays(1).withHour(0).withMinute(0).withSecond(0).withNano(0) else current.withHour(endHour).withMinute(0).withSecond(0).withNano(0)\n",
    "\n",
    "              val minutes = overlap(start, end, bucketStart, bucketEnd, decimals)\n",
    "\n",
    "              result = result.updated(label, result(label) + minutes)\n",
    "            }\n",
    "          }\n",
    "\n",
    "        current = nextDay\n",
    "      }\n",
    "    }\n",
    "  }\n",
    "  result\n",
    "}\n",
    "\n",
    "val isUSHolidayOrWeekend: LocalDate => Boolean = { date =>\n",
    "  val month = date.getMonthValue\n",
    "  val day = date.getDayOfMonth\n",
    "  val dayOfWeek = date.getDayOfWeek\n",
    "\n",
    "  val isIndependenceDay = month == 7 && day == 4\n",
    "  val isChristmas = month == 12 && day == 25\n",
    "  val isNewYear = month == 1 && day == 1\n",
    "  val isLaborDay = month == 9 && dayOfWeek == DayOfWeek.MONDAY && day <= 7\n",
    "\n",
    "  val isThanksgiving = month == 11 && dayOfWeek == DayOfWeek.THURSDAY && day >= 22 && day <= 28 && ((day - 1) / 7 + 1 == 4)\n",
    "\n",
    "  isIndependenceDay || isChristmas || isNewYear || isLaborDay || isThanksgiving || dayOfWeek == DayOfWeek.SATURDAY || dayOfWeek == DayOfWeek.SUNDAY\n",
    "}\n",
    "\n",
    "val selectColumns: (RDD[Row], Seq[String], Set[String]) => RDD[Row] = { (rdd, headers, columnsToKeep) =>\n",
    "  val keepIndexes = headers.zipWithIndex.collect {\n",
    "    case (col, idx) if columnsToKeep.contains(col) => idx\n",
    "  }\n",
    "\n",
    "  rdd\n",
    "    .map { row =>\n",
    "      val selectedValues = keepIndexes.map(row.get)\n",
    "      Row.fromSeq(selectedValues)\n",
    "    }\n",
    "}\n",
    "\n",
    "val removeColumns: (RDD[Row], Seq[String], Set[String]) => RDD[Row] = { (rdd, headers, columnsToRemove) =>\n",
    "  val lowerHeaders = headers.map(_.toLowerCase)\n",
    "  val removeSet = columnsToRemove.map(_.toLowerCase)\n",
    "\n",
    "  val keepIndexes = lowerHeaders.zipWithIndex.collect {\n",
    "    case (col, idx) if !removeSet.contains(col) => idx\n",
    "  }\n",
    "\n",
    "  rdd\n",
    "    .map { row =>\n",
    "      val selectedValues = keepIndexes.map(row.get)\n",
    "      Row.fromSeq(selectedValues)\n",
    "    }\n",
    "}"
   ],
   "outputs": [
    {
     "data": {
      "text/plain": [
       "import java.time.temporal.ChronoUnit\n",
       "import java.time.{DayOfWeek, LocalDate}\n",
       "import org.apache.spark.rdd.RDD\n",
       "import org.apache.spark.sql.Row\n",
       "import scala.math.BigDecimal.RoundingMode\n",
       "getDatasetPath: (localPath: String)String\n",
       "binColByStepValue: (rdd: org.apache.spark.rdd.RDD[org.apache.spark.sql.Row], indexOfColToDiscrete: Int, stepValue: Int)org.apache.spark.rdd.RDD[org.apache.spark.sql.Row]\n",
       "castForFilter: Any => Any = $Lambda$2544/0x000000080110d840@2e57df4a\n",
       "preciseBucketUDF: (Map[String,(Int, Int)], java.time.LocalDateTime, java.time.LocalDateTime, Int) => Map[String,Double] = $Lambda$2545/0x000000080110d440@65517d75\n",
       "isUSHolidayOrWeekend: java.time.LocalDate => Boolean = $Lambda$2546/0x000000080110e840@43c03063\n",
       "selectColumns: (org.apache.spark.rdd.RDD[org.apache.spark.sql.Row], Seq[St...\n"
      ]
     },
     "execution_count": 5,
     "metadata": {},
     "output_type": "execute_result"
    }
   ],
   "execution_count": 5
  },
  {
   "cell_type": "markdown",
   "id": "d67c5a94825ecee9",
   "metadata": {},
   "source": [
    "# Actual job\n",
    "\n",
    "1) Select dataset [yellow or green]"
   ]
  },
  {
   "cell_type": "code",
   "id": "60aee06709329346",
   "metadata": {
    "ExecuteTime": {
     "end_time": "2025-07-04T15:01:18.149887Z",
     "start_time": "2025-07-04T15:01:17.781668Z"
    }
   },
   "source": [
    "val name: String = \"yellow\"\n",
    "val (dropoff, pickup) = datasetIterator(name)"
   ],
   "outputs": [
    {
     "data": {
      "text/plain": [
       "name: String = yellow\n",
       "dropoff: String = tpep_dropoff_datetime\n",
       "pickup: String = tpep_pickup_datetime\n"
      ]
     },
     "execution_count": 6,
     "metadata": {},
     "output_type": "execute_result"
    }
   ],
   "execution_count": 6
  },
  {
   "cell_type": "markdown",
   "id": "6e3fcaeb36518cd9",
   "metadata": {},
   "source": [
    "2) Load dataset"
   ]
  },
  {
   "cell_type": "code",
   "id": "a846e646fac3bac4",
   "metadata": {
    "ExecuteTime": {
     "end_time": "2025-07-04T15:01:21.258374Z",
     "start_time": "2025-07-04T15:01:18.154334Z"
    }
   },
   "source": [
    "val startTime = System.currentTimeMillis()\n",
    "\n",
    "val dataset = spark.read.parquet(getDatasetPath(datasetDirMap(name)))\n",
    "var headers: Seq[String] = dataset.columns.map(_.toLowerCase)\n",
    "val indexesToUse: Seq[Int] = headers.zipWithIndex.collect {\n",
    "  case (h, i) if colToUse.contains(h.toLowerCase) => i\n",
    "}\n",
    "headers = headers\n",
    "  .filter(head => colToUse.contains(head.toLowerCase))"
   ],
   "outputs": [
    {
     "data": {
      "text/plain": [
       "startTime: Long = 1751641278751\n",
       "dataset: org.apache.spark.sql.DataFrame = [VendorID: int, tpep_pickup_datetime: timestamp_ntz ... 17 more fields]\n",
       "headers: Seq[String] = ArraySeq(tpep_pickup_datetime, tpep_dropoff_datetime, passenger_count, trip_distance, ratecodeid, store_and_fwd_flag, payment_type, fare_amount, extra, mta_tax, tip_amount, tolls_amount, improvement_surcharge, total_amount, congestion_surcharge, airport_fee)\n",
       "indexesToUse: Seq[Int] = ArraySeq(1, 2, 3, 4, 5, 6, 9, 10, 11, 12, 13, 14, 15, 16, 17, 18)\n",
       "headers: Seq[String] = ArraySeq(tpep_pickup_datetime, tpep_dropoff_datetime, passenger_count, trip_distance, ratecodeid, store_and_fwd_flag, payment_type, fare_amount, extra, mta_tax, tip_amount, tolls_amount, improvement_surcharge, total_amount, congestion_surcharge, airport_fee)\n"
      ]
     },
     "execution_count": 7,
     "metadata": {},
     "output_type": "execute_result"
    }
   ],
   "execution_count": 7
  },
  {
   "cell_type": "markdown",
   "id": "df209b8e24cd13e9",
   "metadata": {},
   "source": [
    "3) Filter taxes and features based on filter conditions previously defined"
   ]
  },
  {
   "cell_type": "code",
   "id": "f8a8a0eaeaa2d294",
   "metadata": {
    "ExecuteTime": {
     "end_time": "2025-07-04T15:01:24.925843Z",
     "start_time": "2025-07-04T15:01:21.262235Z"
    }
   },
   "source": [
    "import org.apache.spark.sql.DataFrame\n",
    "import java.time.format.DateTimeFormatter\n",
    "\n",
    "def transformRDD(dataset: DataFrame, idxs: Seq[Int], castFunc: Any => Any): RDD[Row] = {\n",
    "  dataset.rdd\n",
    "    .map(row => Row.fromSeq(idxs.map(row.get).map(castFunc)))\n",
    "}\n",
    "\n",
    "val rdd = transformRDD(dataset, indexesToUse, castForFilter)\n",
    "\n",
    "def applyFilters(rdd: RDD[Row], headers: Seq[String], colOfFees: Set[String], taxFilter: Any => Boolean, featFilter: Map[String, Any => Boolean], dateFilter: (Any, Int) => Boolean, dropoff: String, pickup: String, minimumYearDataset: Int): RDD[Row] = {\n",
    "  rdd\n",
    "    .filter { row =>\n",
    "      val formatter = DateTimeFormatter.ofPattern(\"yyyy-MM-dd'T'HH:mm[:ss]\")\n",
    "      headers.zip(row.toSeq)\n",
    "        .forall {\n",
    "          case (header: String, value) => {\n",
    "            val taxFilterCondition = if (colOfFees.contains(header.toLowerCase)) taxFilter(value) else true\n",
    "\n",
    "            featFilter.get(header.toLowerCase) match {\n",
    "              case Some(filterFunc) => taxFilterCondition && filterFunc(value)\n",
    "              case None => if (header.equals(pickup) || header.equals(dropoff)) {\n",
    "                dateFilter(LocalDateTime.parse(row.getAs[String](headers.indexOf(header)).trim, formatter), minimumYearDataset) && taxFilterCondition\n",
    "              } else taxFilterCondition\n",
    "            }\n",
    "          }\n",
    "        }\n",
    "    }\n",
    "}\n",
    "\n",
    "val rddFiltered = applyFilters(rdd, headers, colFees, taxFilter, featureFilters, dateFilter, dropoff, pickup, minimumYearDataset)"
   ],
   "outputs": [
    {
     "data": {
      "text/plain": [
       "import org.apache.spark.sql.DataFrame\n",
       "import java.time.format.DateTimeFormatter\n",
       "transformRDD: (dataset: org.apache.spark.sql.DataFrame, idxs: Seq[Int], castFunc: Any => Any)org.apache.spark.rdd.RDD[org.apache.spark.sql.Row]\n",
       "rdd: org.apache.spark.rdd.RDD[org.apache.spark.sql.Row] = MapPartitionsRDD[8] at map at <console>:46\n",
       "applyFilters: (rdd: org.apache.spark.rdd.RDD[org.apache.spark.sql.Row], headers: Seq[String], colOfFees: Set[String], taxFilter: Any => Boolean, featFilter: Map[String,Any => Boolean], dateFilter: (Any, Int) => Boolean, dropoff: String, pickup: String, minimumYearDataset: Int)org.apache.spark.rdd.RDD[org.apache.spark.sql.Row]\n",
       "rddFiltered: org.apache.spark.rdd.RDD[org.apache.spark.sql.Row] = MapPartitionsRDD[9] at filter at <console>:53\n"
      ]
     },
     "execution_count": 8,
     "metadata": {},
     "output_type": "execute_result"
    }
   ],
   "execution_count": 8
  },
  {
   "cell_type": "markdown",
   "id": "523a6cb64b4c03d8",
   "metadata": {},
   "source": [
    "4) Add duration and timezones"
   ]
  },
  {
   "cell_type": "code",
   "id": "9f3672bebd356114",
   "metadata": {
    "ExecuteTime": {
     "end_time": "2025-07-04T15:01:26.051953Z",
     "start_time": "2025-07-04T15:01:24.930291Z"
    }
   },
   "source": [
    "import java.time.Duration\n",
    "\n",
    "def addDuration(rdd: RDD[Row], headers: Seq[String], pickup: String, dropoff: String, decimals: Int): RDD[Row] = {\n",
    "  rdd\n",
    "    .map { row =>\n",
    "      val formatter = DateTimeFormatter.ofPattern(\"yyyy-MM-dd'T'HH:mm[:ss]\")\n",
    "\n",
    "      val pickupStr = row.getAs[String](headers.indexOf(pickup)).trim\n",
    "      val dropoffStr = row.getAs[String](headers.indexOf(dropoff)).trim\n",
    "\n",
    "      val pickupTS = LocalDateTime.parse(pickupStr, formatter)\n",
    "      val dropoffTS = LocalDateTime.parse(dropoffStr, formatter)\n",
    "      val durationMillis = Duration.between(pickupTS, dropoffTS).toMillis\n",
    "      val durationMinutes = BigDecimal(durationMillis / 60000.0).setScale(decimals, RoundingMode.HALF_UP).toDouble\n",
    "\n",
    "      val pickupYear = pickupTS.getYear\n",
    "\n",
    "      Row.fromSeq(row.toSeq ++ Seq(durationMinutes, pickupYear))\n",
    "    }\n",
    "    .filter {\n",
    "      row => row.getAs[Double](row.toSeq.length - 2) > 0.0\n",
    "    }\n",
    "}\n",
    "\n",
    "val rddDuration = addDuration(rddFiltered, headers, pickup, dropoff, decimals)\n",
    "headers = headers ++ Seq(colDurationMinutes, colYear)\n",
    "\n",
    "val rddDurationBin = binColByStepValue(rddDuration, headers.indexOf(colDurationMinutes), 5)\n",
    "headers = headers :+ colDurationMinutesBinLabel\n",
    "\n",
    "def addTimeZones(rdd: RDD[Row], headers: Seq[String], timezones: Map[String, (Int, Int)], weekDaySurcharge: Double, colDuration: String, pickup: String, dropoff: String, decimals: Int, preciseBucketUDF: (Map[String, (Int, Int)], LocalDateTime, LocalDateTime, Int) => Map[String, Double], isUSHolidayOrWeekendTZ: LocalDate => Boolean): RDD[Row] = {\n",
    "  rdd\n",
    "    .map { row =>\n",
    "      val formatter = DateTimeFormatter.ofPattern(\"yyyy-MM-dd'T'HH:mm[:ss]\")\n",
    "\n",
    "      val timeZonesDuration: Map[String, Double] = preciseBucketUDF(timezones, LocalDateTime.parse(row.getAs[String](headers.indexOf(pickup)).trim, formatter), LocalDateTime.parse(row.getAs[String](headers.indexOf(dropoff)).trim, formatter), decimals)\n",
    "\n",
    "      val weekday_surcharge: Double = if (isUSHolidayOrWeekendTZ(LocalDateTime.parse(row.getAs[String](headers.indexOf(pickup)).trim, formatter).toLocalDate)) 0 else weekDaySurcharge\n",
    "      val colsToAdd: Seq[Double] = timezones.keys.toSeq\n",
    "        .flatMap { tz =>\n",
    "          val duration = timeZonesDuration.getOrElse(tz, 0.0)\n",
    "          val totalDuration = row.getAs[Double](headers.indexOf(colDuration))\n",
    "          Seq(duration, BigDecimal(duration * 100 / totalDuration).setScale(decimals, RoundingMode.HALF_UP).toDouble)\n",
    "        }\n",
    "      Row.fromSeq((row.toSeq ++ colsToAdd) :+ weekday_surcharge)\n",
    "    }\n",
    "}\n",
    "\n",
    "val rddTimeZones = addTimeZones(rddDurationBin, headers, timeZones, weekDaySurcharge, colDurationMinutes, pickup, dropoff, decimals, preciseBucketUDF, isUSHolidayOrWeekend)\n",
    "\n",
    "val headersToAdd: Seq[String] = timeZones.keys.toSeq.flatMap { tz =>\n",
    "  Seq(tz + \"_duration\", tz + \"_duration_pcg\")\n",
    "} :+ colWeekdaySurcharge\n",
    "\n",
    "headers = headers ++ headersToAdd"
   ],
   "outputs": [
    {
     "data": {
      "text/plain": [
       "import java.time.Duration\n",
       "addDuration: (rdd: org.apache.spark.rdd.RDD[org.apache.spark.sql.Row], headers: Seq[String], pickup: String, dropoff: String, decimals: Int)org.apache.spark.rdd.RDD[org.apache.spark.sql.Row]\n",
       "rddDuration: org.apache.spark.rdd.RDD[org.apache.spark.sql.Row] = MapPartitionsRDD[11] at filter at <console>:67\n",
       "headers: Seq[String] = ArraySeq(tpep_pickup_datetime, tpep_dropoff_datetime, passenger_count, trip_distance, ratecodeid, store_and_fwd_flag, payment_type, fare_amount, extra, mta_tax, tip_amount, tolls_amount, improvement_surcharge, total_amount, congestion_surcharge, airport_fee, duration_minutes, year, duration_minutes_bin_label, overnight_duration, overnight_duration_pcg, regular_duration, regular_duration_pcg, weekday_surcharge)\n",
       "rddDurationBin: org.apache.spa...\n"
      ]
     },
     "execution_count": 9,
     "metadata": {},
     "output_type": "execute_result"
    }
   ],
   "execution_count": 9
  },
  {
   "cell_type": "code",
   "id": "a03dd43acdc10696",
   "metadata": {
    "ExecuteTime": {
     "end_time": "2025-07-04T15:01:26.280832Z",
     "start_time": "2025-07-04T15:01:26.056291Z"
    }
   },
   "source": [
    "val colToRemoveTimeZones = Set(pickup, dropoff, \"overnight_duration\", \"regular_duration\", \"regular_duration_pcg\", \"ratecodeid\", \"tip_amount\", \"tolls_amount\", \"total_amount\")\n",
    "\n",
    "val rddTimeZonesOpt = removeColumns(rddTimeZones, headers, colToRemoveTimeZones)\n",
    "var headersTimeZonesOpt = headers.filterNot(col => colToRemoveTimeZones.contains(col.toLowerCase))"
   ],
   "outputs": [
    {
     "data": {
      "text/plain": [
       "colToRemoveTimeZones: scala.collection.immutable.Set[String] = Set(tpep_dropoff_datetime, regular_duration, overnight_duration, regular_duration_pcg, tolls_amount, tip_amount, total_amount, tpep_pickup_datetime, ratecodeid)\n",
       "rddTimeZonesOpt: org.apache.spark.rdd.RDD[org.apache.spark.sql.Row] = MapPartitionsRDD[14] at map at <console>:153\n",
       "headersTimeZonesOpt: Seq[String] = ArraySeq(passenger_count, trip_distance, store_and_fwd_flag, payment_type, fare_amount, extra, mta_tax, improvement_surcharge, congestion_surcharge, airport_fee, duration_minutes, year, duration_minutes_bin_label, overnight_duration_pcg, weekday_surcharge)\n"
      ]
     },
     "execution_count": 10,
     "metadata": {},
     "output_type": "execute_result"
    }
   ],
   "execution_count": 10
  },
  {
   "cell_type": "markdown",
   "id": "135d87a329e10208",
   "metadata": {},
   "source": [
    "5) Add Aggregate fees and bins"
   ]
  },
  {
   "cell_type": "code",
   "id": "cfb99aef020692d9",
   "metadata": {
    "ExecuteTime": {
     "end_time": "2025-07-04T15:01:26.563257Z",
     "start_time": "2025-07-04T15:01:26.285161Z"
    }
   },
   "source": [
    "def addAggregateFees(rdd: RDD[Row], headers: Seq[String], colOfFees: Set[String]): RDD[Row] = {\n",
    "  rdd\n",
    "    .map { row =>\n",
    "      val fees = colOfFees\n",
    "        .filter(col => headers.contains(col.toLowerCase))\n",
    "        .map(col => row.getAs[Double](headers.indexOf(col.toLowerCase))).sum\n",
    "\n",
    "      Row.fromSeq(row.toSeq :+ fees)\n",
    "    }\n",
    "}\n",
    "\n",
    "val rddAggFees = addAggregateFees(rddTimeZonesOpt, headersTimeZonesOpt, colFees)\n",
    "headersTimeZonesOpt = headersTimeZonesOpt :+ colAggregateFee\n",
    "\n",
    "val rddAggFeesBin = binColByStepValue(rddAggFees, headersTimeZonesOpt.indexOf(colAggregateFee), 2)\n",
    "headersTimeZonesOpt = headersTimeZonesOpt :+ colAggregateFeeBin"
   ],
   "outputs": [
    {
     "data": {
      "text/plain": [
       "addAggregateFees: (rdd: org.apache.spark.rdd.RDD[org.apache.spark.sql.Row], headers: Seq[String], colOfFees: Set[String])org.apache.spark.rdd.RDD[org.apache.spark.sql.Row]\n",
       "rddAggFees: org.apache.spark.rdd.RDD[org.apache.spark.sql.Row] = MapPartitionsRDD[15] at map at <console>:43\n",
       "headersTimeZonesOpt: Seq[String] = ArraySeq(passenger_count, trip_distance, store_and_fwd_flag, payment_type, fare_amount, extra, mta_tax, improvement_surcharge, congestion_surcharge, airport_fee, duration_minutes, year, duration_minutes_bin_label, overnight_duration_pcg, weekday_surcharge, fees, agg_fee_bin_label)\n",
       "rddAggFeesBin: org.apache.spark.rdd.RDD[org.apache.spark.sql.Row] = MapPartitionsRDD[16] at map at <console>:40\n",
       "headersTimeZonesOpt: Seq[String] = ArraySeq(passenger_count, trip_distance, store_and_f...\n"
      ]
     },
     "execution_count": 11,
     "metadata": {},
     "output_type": "execute_result"
    }
   ],
   "execution_count": 11
  },
  {
   "cell_type": "code",
   "id": "e6282efb09847386",
   "metadata": {
    "ExecuteTime": {
     "end_time": "2025-07-04T15:01:26.808324Z",
     "start_time": "2025-07-04T15:01:26.567672Z"
    }
   },
   "source": [
    "val colToRemoveAggFees = colFees ++ Set(colAggregateFee)\n",
    "\n",
    "val rddAggFeesOpt = removeColumns(rddAggFeesBin, headersTimeZonesOpt, colToRemoveAggFees)\n",
    "var headersAggFeesOpt = headersTimeZonesOpt.filterNot(col => colToRemoveAggFees.contains(col.toLowerCase))"
   ],
   "outputs": [
    {
     "data": {
      "text/plain": [
       "colToRemoveAggFees: scala.collection.immutable.Set[String] = Set(improvement_surcharge, fees, extra, airport_fee, congestion_surcharge, mta_tax)\n",
       "rddAggFeesOpt: org.apache.spark.rdd.RDD[org.apache.spark.sql.Row] = MapPartitionsRDD[17] at map at <console>:153\n",
       "headersAggFeesOpt: Seq[String] = ArraySeq(passenger_count, trip_distance, store_and_fwd_flag, payment_type, fare_amount, duration_minutes, year, duration_minutes_bin_label, overnight_duration_pcg, weekday_surcharge, agg_fee_bin_label)\n"
      ]
     },
     "execution_count": 12,
     "metadata": {},
     "output_type": "execute_result"
    }
   ],
   "execution_count": 12
  },
  {
   "cell_type": "markdown",
   "id": "2612d914aaba250d",
   "metadata": {},
   "source": [
    "6) Add price per mile and minute"
   ]
  },
  {
   "cell_type": "code",
   "id": "7a05a60d734daf56",
   "metadata": {
    "ExecuteTime": {
     "end_time": "2025-07-04T15:01:27.015736Z",
     "start_time": "2025-07-04T15:01:26.812838Z"
    }
   },
   "source": [
    "def addPricePerDistanceAndTime(rdd: RDD[Row], headers: Seq[String], colFareAmount: String, colDuration: String, colDistance: String): RDD[Row] = {\n",
    "  rdd\n",
    "    .map { row =>\n",
    "      val pricePerTime = Math.round(row.getAs[Double](headers.indexOf(colFareAmount)) / row.getAs[Double](headers.indexOf(colDuration)) * 100) / 100.0\n",
    "      val pricePerDistance = Math.round(row.getAs[Double](headers.indexOf(colFareAmount)) / row.getAs[Double](headers.indexOf(colDistance)) * 100) / 100.0\n",
    "\n",
    "      Row.fromSeq(row.toSeq ++ Seq(pricePerTime, pricePerDistance))\n",
    "    }\n",
    "}\n",
    "\n",
    "val rddPriced = addPricePerDistanceAndTime(rddAggFeesOpt, headersAggFeesOpt, colFareAmount, colDurationMinutes, \"trip_distance\")\n",
    "headersAggFeesOpt = headersAggFeesOpt ++ Seq(colPricePerTime, colPricePerDistance)"
   ],
   "outputs": [
    {
     "data": {
      "text/plain": [
       "addPricePerDistanceAndTime: (rdd: org.apache.spark.rdd.RDD[org.apache.spark.sql.Row], headers: Seq[String], colFareAmount: String, colDuration: String, colDistance: String)org.apache.spark.rdd.RDD[org.apache.spark.sql.Row]\n",
       "rddPriced: org.apache.spark.rdd.RDD[org.apache.spark.sql.Row] = MapPartitionsRDD[18] at map at <console>:43\n",
       "headersAggFeesOpt: Seq[String] = ArraySeq(passenger_count, trip_distance, store_and_fwd_flag, payment_type, fare_amount, duration_minutes, year, duration_minutes_bin_label, overnight_duration_pcg, weekday_surcharge, agg_fee_bin_label, cost_per_time, cost_per_distance)\n"
      ]
     },
     "execution_count": 13,
     "metadata": {},
     "output_type": "execute_result"
    }
   ],
   "execution_count": 13
  },
  {
   "cell_type": "code",
   "id": "249ca87bec9ec878",
   "metadata": {
    "ExecuteTime": {
     "end_time": "2025-07-04T15:01:27.230552Z",
     "start_time": "2025-07-04T15:01:27.020234Z"
    }
   },
   "source": [
    "val colToRemovePricePerDistanceAndTime = Set(colFareAmount, colDurationMinutes)\n",
    "\n",
    "val rddPricePerDistanceAndTimeOpt = removeColumns(rddPriced, headersAggFeesOpt, colToRemovePricePerDistanceAndTime)\n",
    "var headersPricePerDistanceAndTimeOpt = headersAggFeesOpt.filterNot(col => colToRemovePricePerDistanceAndTime.contains(col.toLowerCase))"
   ],
   "outputs": [
    {
     "data": {
      "text/plain": [
       "colToRemovePricePerDistanceAndTime: scala.collection.immutable.Set[String] = Set(fare_amount, duration_minutes)\n",
       "rddPricePerDistanceAndTimeOpt: org.apache.spark.rdd.RDD[org.apache.spark.sql.Row] = MapPartitionsRDD[19] at map at <console>:153\n",
       "headersPricePerDistanceAndTimeOpt: Seq[String] = ArraySeq(passenger_count, trip_distance, store_and_fwd_flag, payment_type, year, duration_minutes_bin_label, overnight_duration_pcg, weekday_surcharge, agg_fee_bin_label, cost_per_time, cost_per_distance)\n"
      ]
     },
     "execution_count": 14,
     "metadata": {},
     "output_type": "execute_result"
    }
   ],
   "execution_count": 14
  },
  {
   "cell_type": "markdown",
   "id": "86d18a3f7203c64e",
   "metadata": {},
   "source": [
    "7) Add distance bin and duration in overnight time zone"
   ]
  },
  {
   "cell_type": "code",
   "id": "d8c2b74844f233ba",
   "metadata": {
    "ExecuteTime": {
     "end_time": "2025-07-04T15:01:27.800018Z",
     "start_time": "2025-07-04T15:01:27.242563Z"
    }
   },
   "source": [
    "val rddDistBin = binColByStepValue(rddPricePerDistanceAndTimeOpt, headersPricePerDistanceAndTimeOpt.indexOf(\"trip_distance\"), 5)\n",
    "headersPricePerDistanceAndTimeOpt = headersPricePerDistanceAndTimeOpt :+ colDistanceBin\n",
    "\n",
    "val rddOvernightBin = binColByStepValue(rddDistBin, headersPricePerDistanceAndTimeOpt.indexOf(colDurationOvernightPcg), 5)\n",
    "headersPricePerDistanceAndTimeOpt = headersPricePerDistanceAndTimeOpt :+ (colDurationOvernightPcg + \"_label\")"
   ],
   "outputs": [
    {
     "data": {
      "text/plain": [
       "rddDistBin: org.apache.spark.rdd.RDD[org.apache.spark.sql.Row] = MapPartitionsRDD[20] at map at <console>:40\n",
       "headersPricePerDistanceAndTimeOpt: Seq[String] = ArraySeq(passenger_count, trip_distance, store_and_fwd_flag, payment_type, year, duration_minutes_bin_label, overnight_duration_pcg, weekday_surcharge, agg_fee_bin_label, cost_per_time, cost_per_distance, distance_bin_label, overnight_duration_pcg_label)\n",
       "rddOvernightBin: org.apache.spark.rdd.RDD[org.apache.spark.sql.Row] = MapPartitionsRDD[21] at map at <console>:40\n",
       "headersPricePerDistanceAndTimeOpt: Seq[String] = ArraySeq(passenger_count, trip_distance, store_and_fwd_flag, payment_type, year, duration_minutes_bin_label, overnight_duration_pcg, weekday_surcharge, agg_fee_bin_label, cost_per_time, cost_per_distance, distance_bin_lab...\n"
      ]
     },
     "execution_count": 15,
     "metadata": {},
     "output_type": "execute_result"
    }
   ],
   "execution_count": 15
  },
  {
   "cell_type": "code",
   "id": "3895474ebdec5875",
   "metadata": {
    "ExecuteTime": {
     "end_time": "2025-07-04T15:01:28.022948Z",
     "start_time": "2025-07-04T15:01:27.804308Z"
    }
   },
   "source": [
    "val colToRemoveOvernightBin = Set(\"trip_distance\", colDurationOvernightPcg, colWeekdaySurcharge)\n",
    "\n",
    "val rddOvernightBinOpt = removeColumns(rddOvernightBin, headersPricePerDistanceAndTimeOpt, colToRemoveOvernightBin)\n",
    "var headersOvernightBinOpt = headersPricePerDistanceAndTimeOpt.filterNot(col => colToRemoveOvernightBin.contains(col.toLowerCase))"
   ],
   "outputs": [
    {
     "data": {
      "text/plain": [
       "colToRemoveOvernightBin: scala.collection.immutable.Set[String] = Set(trip_distance, overnight_duration_pcg, weekday_surcharge)\n",
       "rddOvernightBinOpt: org.apache.spark.rdd.RDD[org.apache.spark.sql.Row] = MapPartitionsRDD[22] at map at <console>:153\n",
       "headersOvernightBinOpt: Seq[String] = ArraySeq(passenger_count, store_and_fwd_flag, payment_type, year, duration_minutes_bin_label, agg_fee_bin_label, cost_per_time, cost_per_distance, distance_bin_label, overnight_duration_pcg_label)\n"
      ]
     },
     "execution_count": 16,
     "metadata": {},
     "output_type": "execute_result"
    }
   ],
   "execution_count": 16
  },
  {
   "cell_type": "markdown",
   "id": "6419c663ec4fef40",
   "metadata": {},
   "source": [
    "8) Add key for average calculation based on columns for classification"
   ]
  },
  {
   "cell_type": "code",
   "id": "3b88a93a6da25df1",
   "metadata": {
    "ExecuteTime": {
     "end_time": "2025-07-04T15:03:53.575130Z",
     "start_time": "2025-07-04T15:01:28.027266Z"
    }
   },
   "source": [
    "import org.apache.spark.storage.StorageLevel\n",
    "\n",
    "val actualHeader = headersOvernightBinOpt\n",
    "def addKey(rdd: RDD[Row], colsClassification: Seq[String], headers: Seq[String]): RDD[(String, Row)] = {\n",
    "  rdd\n",
    "    .map { row =>\n",
    "      val key = colsClassification.filter(col => headers.contains(col.toLowerCase))\n",
    "      .map(col => row.get(headers.indexOf(col.toLowerCase)))\n",
    "      .mkString(\"_\")\n",
    "      (key, row)\n",
    "    }\n",
    "}\n",
    "\n",
    "val rddWithKey = addKey(rddOvernightBinOpt, colsForClassification, actualHeader).persist(StorageLevel.MEMORY_AND_DISK_SER)\n",
    "rddWithKey.take(1).foreach(println)"
   ],
   "outputs": [
    {
     "name": "stdout",
     "output_type": "stream",
     "text": [
      "(1.0_N_1.0_[6|8)_[5|10)_[0|5)_2025.0_[100|105),[1.0,N,1.0,2025.0,[5|10),[6|8),0.92,8.78,[0|5),[100|105)])\n"
     ]
    },
    {
     "data": {
      "text/plain": [
       "import org.apache.spark.storage.StorageLevel\n",
       "actualHeader: Seq[String] = ArraySeq(passenger_count, store_and_fwd_flag, payment_type, year, duration_minutes_bin_label, agg_fee_bin_label, cost_per_time, cost_per_distance, distance_bin_label, overnight_duration_pcg_label)\n",
       "addKey: (rdd: org.apache.spark.rdd.RDD[org.apache.spark.sql.Row], colsClassification: Seq[String], headers: Seq[String])org.apache.spark.rdd.RDD[(String, org.apache.spark.sql.Row)]\n",
       "rddWithKey: org.apache.spark.rdd.RDD[(String, org.apache.spark.sql.Row)] = MapPartitionsRDD[23] at map at <console>:43\n"
      ]
     },
     "execution_count": 17,
     "metadata": {},
     "output_type": "execute_result"
    }
   ],
   "execution_count": 17
  },
  {
   "cell_type": "markdown",
   "id": "d200896a8f8a49d5",
   "metadata": {},
   "source": [
    "9) Calculate prices per distance and time"
   ]
  },
  {
   "cell_type": "code",
   "id": "85e4e86bc9992218",
   "metadata": {
    "ExecuteTime": {
     "end_time": "2025-07-04T15:03:54.413948Z",
     "start_time": "2025-07-04T15:03:53.675083Z"
    }
   },
   "source": [
    "def calculatePrices(rdd: RDD[(String, Row)], headers: Seq[String], colPriceDistance: String, colPriceTime: String): RDD[(String, (Double, Double, Long))] = {\n",
    "  rdd\n",
    "    .mapValues { row =>\n",
    "      val costPerDistance = row.getAs[Double](headers.indexOf(colPriceDistance))\n",
    "      val costPerTime = row.getAs[Double](headers.indexOf(colPriceTime))\n",
    "      (costPerDistance, costPerTime, 1L)\n",
    "    }\n",
    "}\n",
    "\n",
    "val rddForAvg = calculatePrices(rddWithKey, headersOvernightBinOpt, colPricePerDistance, colPricePerTime)"
   ],
   "outputs": [
    {
     "data": {
      "text/plain": [
       "calculatePrices: (rdd: org.apache.spark.rdd.RDD[(String, org.apache.spark.sql.Row)], headers: Seq[String], colPriceDistance: String, colPriceTime: String)org.apache.spark.rdd.RDD[(String, (Double, Double, Long))]\n",
       "rddForAvg: org.apache.spark.rdd.RDD[(String, (Double, Double, Long))] = MapPartitionsRDD[24] at mapValues at <console>:42\n"
      ]
     },
     "execution_count": 18,
     "metadata": {},
     "output_type": "execute_result"
    }
   ],
   "execution_count": 18
  },
  {
   "cell_type": "markdown",
   "id": "ab90fed37146ba50",
   "metadata": {},
   "source": [
    "10) Calculate average prices per distance and time"
   ]
  },
  {
   "cell_type": "code",
   "id": "6c3896dc99dbd31b",
   "metadata": {
    "ExecuteTime": {
     "end_time": "2025-07-04T15:03:55.000412Z",
     "start_time": "2025-07-04T15:03:54.429255Z"
    }
   },
   "source": [
    "def calculateAvgPrices(rdd: RDD[(String, (Double, Double, Long))], decimals: Int): RDD[(String, (Double, Double))] = {\n",
    "  rdd\n",
    "    .reduceByKey {\n",
    "      case ((d1, t1, c1), (d2, t2, c2)) => (d1 + d2, t1 + t2, c1 + c2)\n",
    "    }\n",
    "    .mapValues {\n",
    "      case (sumDist, sumTime, count) =>\n",
    "        val avgDist = BigDecimal(sumDist / count).setScale(decimals, BigDecimal.RoundingMode.HALF_UP).toDouble\n",
    "        val avgTime = BigDecimal(sumTime / count).setScale(decimals, BigDecimal.RoundingMode.HALF_UP).toDouble\n",
    "        (avgDist, avgTime)\n",
    "    }\n",
    "    .filter {\n",
    "      case (_, (dist, time)) => dist > 0.0 && time > 0.0\n",
    "    }\n",
    "}\n",
    "\n",
    "val rddWithAvgPrices = calculateAvgPrices(rddForAvg, decimals)"
   ],
   "outputs": [
    {
     "data": {
      "text/plain": [
       "calculateAvgPrices: (rdd: org.apache.spark.rdd.RDD[(String, (Double, Double, Long))], decimals: Int)org.apache.spark.rdd.RDD[(String, (Double, Double))]\n",
       "rddWithAvgPrices: org.apache.spark.rdd.RDD[(String, (Double, Double))] = MapPartitionsRDD[27] at filter at <console>:48\n"
      ]
     },
     "execution_count": 19,
     "metadata": {},
     "output_type": "execute_result"
    }
   ],
   "execution_count": 19
  },
  {
   "cell_type": "markdown",
   "id": "2b46c67228dd6352",
   "metadata": {},
   "source": [
    "11) Join average prices to previous rdd"
   ]
  },
  {
   "cell_type": "code",
   "id": "c7da5320936ec0fa",
   "metadata": {
    "ExecuteTime": {
     "end_time": "2025-07-04T15:03:55.565595Z",
     "start_time": "2025-07-04T15:03:55.016223Z"
    }
   },
   "source": [
    "def applyJoin(rdd: RDD[(String, Row)], rddToJoin: RDD[(String, (Double, Double))]): RDD[Row] = {\n",
    "  rdd\n",
    "    .join(rddToJoin)\n",
    "    .map { case (_, (originalRow, (avgCostPerDistance, avgCostPerTime))) =>\n",
    "      Row.fromSeq(originalRow.toSeq ++ Seq(avgCostPerDistance, avgCostPerTime))\n",
    "    }\n",
    "}\n",
    "\n",
    "val rddJoined = applyJoin(rddWithKey, rddWithAvgPrices)\n",
    "\n",
    "rddWithKey.unpersist()\n",
    "\n",
    "headersOvernightBinOpt = headersOvernightBinOpt ++ Seq(colAvgPricePerDistance, colAvgPricePerTime)"
   ],
   "outputs": [
    {
     "data": {
      "text/plain": [
       "applyJoin: (rdd: org.apache.spark.rdd.RDD[(String, org.apache.spark.sql.Row)], rddToJoin: org.apache.spark.rdd.RDD[(String, (Double, Double))])org.apache.spark.rdd.RDD[org.apache.spark.sql.Row]\n",
       "rddJoined: org.apache.spark.rdd.RDD[org.apache.spark.sql.Row] = MapPartitionsRDD[31] at map at <console>:43\n",
       "headersOvernightBinOpt: Seq[String] = ArraySeq(passenger_count, store_and_fwd_flag, payment_type, year, duration_minutes_bin_label, agg_fee_bin_label, cost_per_time, cost_per_distance, distance_bin_label, overnight_duration_pcg_label, avg_cost_per_distance, avg_cost_per_time)\n"
      ]
     },
     "execution_count": 20,
     "metadata": {},
     "output_type": "execute_result"
    }
   ],
   "execution_count": 20
  },
  {
   "cell_type": "code",
   "id": "a218ec951ce87cce",
   "metadata": {
    "ExecuteTime": {
     "end_time": "2025-07-04T15:03:55.775522Z",
     "start_time": "2025-07-04T15:03:55.576471Z"
    }
   },
   "source": [
    "val colToRemoveJoin = Set(\"trip_distance\", colDurationOvernightPcg)\n",
    "\n",
    "val rddJoinOpt = removeColumns(rddJoined, headersOvernightBinOpt, colToRemovePricePerDistanceAndTime)\n",
    "var headersJoinOpt = headersOvernightBinOpt.filterNot(col => colToRemoveJoin.contains(col.toLowerCase))"
   ],
   "outputs": [
    {
     "data": {
      "text/plain": [
       "colToRemoveJoin: scala.collection.immutable.Set[String] = Set(trip_distance, overnight_duration_pcg)\n",
       "rddJoinOpt: org.apache.spark.rdd.RDD[org.apache.spark.sql.Row] = MapPartitionsRDD[32] at map at <console>:153\n",
       "headersJoinOpt: Seq[String] = ArraySeq(passenger_count, store_and_fwd_flag, payment_type, year, duration_minutes_bin_label, agg_fee_bin_label, cost_per_time, cost_per_distance, distance_bin_label, overnight_duration_pcg_label, avg_cost_per_distance, avg_cost_per_time)\n"
      ]
     },
     "execution_count": 21,
     "metadata": {},
     "output_type": "execute_result"
    }
   ],
   "execution_count": 21
  },
  {
   "cell_type": "markdown",
   "id": "b97ec9d1cf2b66bf",
   "metadata": {},
   "source": [
    "12) Add price comparison w.r.t. average price and actual price difference"
   ]
  },
  {
   "cell_type": "code",
   "id": "794982d2cb593fd2",
   "metadata": {
    "ExecuteTime": {
     "end_time": "2025-07-04T15:03:56.024919Z",
     "start_time": "2025-07-04T15:03:55.789710Z"
    }
   },
   "source": [
    "def addPriceComparison(rdd: RDD[Row], headers: Seq[String], colPriceDistance: String, colAvgPriceDistance: String, colPriceTime: String, colAvgPriceTime: String, decimals: Int) = {\n",
    "  rdd.map { row =>\n",
    "    val priceColsToAdd: Seq[Double] = Seq((colPriceDistance, colAvgPriceDistance), (colPriceTime, colAvgPriceTime))\n",
    "      .flatMap { case (colPrice, colAvgPrice) =>\n",
    "        val price = row.getAs[Double](headers.indexOf(colPrice))\n",
    "        val priceAvg = row.getAs[Double](headers.indexOf(colAvgPrice))\n",
    "        val priceDiff = BigDecimal(price - priceAvg).setScale(decimals, BigDecimal.RoundingMode.HALF_UP).toDouble\n",
    "        val priceDiffPcg = BigDecimal(priceDiff / priceAvg * 100).setScale(decimals, BigDecimal.RoundingMode.HALF_UP).toDouble\n",
    "\n",
    "        Seq(priceDiff, priceDiffPcg)\n",
    "      }\n",
    "    Row.fromSeq(row.toSeq ++ priceColsToAdd)\n",
    "  }\n",
    "}\n",
    "\n",
    "val rddPriceComparison = addPriceComparison(rddJoinOpt, headersJoinOpt, colPricePerDistance, colAvgPricePerDistance, colPricePerTime, colAvgPricePerTime, decimals)\n",
    "headersJoinOpt = headersJoinOpt ++ Seq(colPricePerDistanceDiff, colPricePerDistanceDiffPcg, colPricePerTimeDiff, colPricePerTimeDiffPcg)"
   ],
   "outputs": [
    {
     "data": {
      "text/plain": [
       "addPriceComparison: (rdd: org.apache.spark.rdd.RDD[org.apache.spark.sql.Row], headers: Seq[String], colPriceDistance: String, colAvgPriceDistance: String, colPriceTime: String, colAvgPriceTime: String, decimals: Int)org.apache.spark.rdd.RDD[org.apache.spark.sql.Row]\n",
       "rddPriceComparison: org.apache.spark.rdd.RDD[org.apache.spark.sql.Row] = MapPartitionsRDD[33] at map at <console>:48\n",
       "headersJoinOpt: Seq[String] = ArraySeq(passenger_count, store_and_fwd_flag, payment_type, year, duration_minutes_bin_label, agg_fee_bin_label, cost_per_time, cost_per_distance, distance_bin_label, overnight_duration_pcg_label, avg_cost_per_distance, avg_cost_per_time, cost_per_distance_diff, cost_per_distance_diff_pcg, cost_per_time_diff, cost_per_time_diff_pcg)\n"
      ]
     },
     "execution_count": 22,
     "metadata": {},
     "output_type": "execute_result"
    }
   ],
   "execution_count": 22
  },
  {
   "cell_type": "markdown",
   "id": "988b3766e90e9789",
   "metadata": {},
   "source": [
    "13) Bin price difference per time and distance"
   ]
  },
  {
   "cell_type": "code",
   "id": "d43c4991694d18f9",
   "metadata": {
    "ExecuteTime": {
     "end_time": "2025-07-04T15:03:56.222121Z",
     "start_time": "2025-07-04T15:03:56.038840Z"
    }
   },
   "source": [
    "val rddPriceDistBin = binColByStepValue(rddPriceComparison,headersJoinOpt.indexOf(colPricePerDistanceDiffPcg), 5)\n",
    "val rddPriceDistTimeBin = binColByStepValue(rddPriceDistBin, headersJoinOpt.indexOf(colPricePerTimeDiffPcg), 5)\n",
    "\n",
    "headersJoinOpt = headersJoinOpt ++ Seq(colPricePerDistanceDiffPcgLabel, colPricePerTimeDiffPcgLabel)"
   ],
   "outputs": [
    {
     "data": {
      "text/plain": [
       "rddPriceDistBin: org.apache.spark.rdd.RDD[org.apache.spark.sql.Row] = MapPartitionsRDD[34] at map at <console>:40\n",
       "rddPriceDistTimeBin: org.apache.spark.rdd.RDD[org.apache.spark.sql.Row] = MapPartitionsRDD[35] at map at <console>:40\n",
       "headersJoinOpt: Seq[String] = ArraySeq(passenger_count, store_and_fwd_flag, payment_type, year, duration_minutes_bin_label, agg_fee_bin_label, cost_per_time, cost_per_distance, distance_bin_label, overnight_duration_pcg_label, avg_cost_per_distance, avg_cost_per_time, cost_per_distance_diff, cost_per_distance_diff_pcg, cost_per_time_diff, cost_per_time_diff_pcg, cost_per_distance_diff_pcg_label, cost_per_time_diff_pcg_label)\n"
      ]
     },
     "execution_count": 23,
     "metadata": {},
     "output_type": "execute_result"
    }
   ],
   "execution_count": 23
  },
  {
   "cell_type": "code",
   "id": "e3576a957119ffeb",
   "metadata": {
    "ExecuteTime": {
     "end_time": "2025-07-04T15:03:56.330995Z",
     "start_time": "2025-07-04T15:03:56.231170Z"
    }
   },
   "source": [
    "val colToRemovePriceDistTimeBin = Set(colPricePerDistanceDiff, colPricePerDistanceDiffPcg, colPricePerTimeDiff, colPricePerTimeDiffPcg, colPricePerTime, colPricePerDistance, colAvgPricePerDistance, colAvgPricePerTime)\n",
    "\n",
    "val rddPriceDistTimeBinOpt = removeColumns(rddPriceDistTimeBin, headersJoinOpt, colToRemovePriceDistTimeBin)\n",
    "var headersPriceDistTimeBinOpt = headersJoinOpt.filterNot(col => colToRemovePriceDistTimeBin.contains(col.toLowerCase))"
   ],
   "outputs": [
    {
     "data": {
      "text/plain": [
       "colToRemovePriceDistTimeBin: scala.collection.immutable.Set[String] = Set(avg_cost_per_distance, cost_per_distance, cost_per_distance_diff_pcg, avg_cost_per_time, cost_per_time_diff, cost_per_time_diff_pcg, cost_per_distance_diff, cost_per_time)\n",
       "rddPriceDistTimeBinOpt: org.apache.spark.rdd.RDD[org.apache.spark.sql.Row] = MapPartitionsRDD[36] at map at <console>:153\n",
       "headersPriceDistTimeBinOpt: Seq[String] = ArraySeq(passenger_count, store_and_fwd_flag, payment_type, year, duration_minutes_bin_label, agg_fee_bin_label, distance_bin_label, overnight_duration_pcg_label, cost_per_distance_diff_pcg_label, cost_per_time_diff_pcg_label)\n"
      ]
     },
     "execution_count": 24,
     "metadata": {},
     "output_type": "execute_result"
    }
   ],
   "execution_count": 24
  },
  {
   "cell_type": "markdown",
   "id": "d55dcfcdf1b91809",
   "metadata": {},
   "source": [
    "14) Reduce to analysis columns only"
   ]
  },
  {
   "cell_type": "code",
   "id": "c56a14f69be905a0",
   "metadata": {
    "jupyter": {
     "is_executing": true
    },
    "ExecuteTime": {
     "start_time": "2025-07-04T15:03:56.341492Z"
    }
   },
   "source": [
    "val headersForAnalysis = headersPriceDistTimeBinOpt.zipWithIndex.filter(head => colsForClassification.contains(head._1.toLowerCase))\n",
    "\n",
    "val headersForAnalysisIdxs = headersForAnalysis.map(_._2)\n",
    "val headersForAnalysisCols = headersForAnalysis.map(_._1)\n",
    "\n",
    "def reduceToAnalysis(rdd: RDD[Row], idxs: Seq[Int]): RDD[Row] = {\n",
    "  rdd.map { row => Row.fromSeq(idxs.map(row.get)) }\n",
    "}\n",
    "\n",
    "val rddAnalysis = reduceToAnalysis(rddPriceDistTimeBinOpt, headersForAnalysisIdxs)\n",
    "\n",
    "val totalCount = rddAnalysis.count()"
   ],
   "outputs": [],
   "execution_count": null
  },
  {
   "cell_type": "markdown",
   "id": "9f6cdebc4d24c9de",
   "metadata": {},
   "source": [
    "15) Group by feature value"
   ]
  },
  {
   "cell_type": "code",
   "id": "298184e06179fe88",
   "metadata": {
    "ExecuteTime": {
     "end_time": "2025-07-04T15:00:10.229760Z",
     "start_time": "2025-07-04T14:07:54.523380Z"
    }
   },
   "source": [
    "def groupByFeatures(rdd: RDD[Row], colForValuesAnalysis: Seq[String], colPriceDistanceDiffPcgLabel: String, colPriceTimeDiffPcgLabel: String, headersAnalysis: Seq[String], decimals: Int, totalCount: Long): Seq[RDD[Row]] = {\n",
    "  colForValuesAnalysis\n",
    "    .map { colName =>\n",
    "      val groupCols = Seq(colPriceDistanceDiffPcgLabel, colPriceTimeDiffPcgLabel):+ colName\n",
    "      val grouped = rdd\n",
    "        .map { row =>\n",
    "          val key = groupCols.map(col => row.get(headersAnalysis.indexOf(col.toLowerCase)))\n",
    "          (key, 1)\n",
    "        }\n",
    "        .reduceByKey(_ + _)\n",
    "        .map {\n",
    "          case (keySeq, count) => {\n",
    "            val value = keySeq.last.toString\n",
    "            val costDistLabel = keySeq(0).toString\n",
    "            val costTimeLabel = keySeq(1).toString\n",
    "            val pcg = BigDecimal(count.toDouble / totalCount * 100).setScale(decimals, BigDecimal.RoundingMode.HALF_UP).toDouble\n",
    "            Row.fromSeq(Seq(colName, value, count, pcg, costDistLabel, costTimeLabel))\n",
    "          }\n",
    "        }\n",
    "      grouped\n",
    "    }\n",
    "}\n",
    "\n",
    "val rddFeatures = groupByFeatures(rddAnalysis, colsForValuesAnalysis, colPricePerDistanceDiffPcgLabel, colPricePerTimeDiffPcgLabel, headersForAnalysisCols, decimals, totalCount)"
   ],
   "outputs": [
    {
     "data": {
      "text/plain": [
       "groupByFeatures: (rdd: org.apache.spark.rdd.RDD[org.apache.spark.sql.Row], colForValuesAnalysis: Seq[String], colPriceDistanceDiffPcgLabel: String, colPriceTimeDiffPcgLabel: String, headersAnalysis: Seq[String], decimals: Int, totalCount: Long)Seq[org.apache.spark.rdd.RDD[org.apache.spark.sql.Row]]\n",
       "rddFeatures: Seq[org.apache.spark.rdd.RDD[org.apache.spark.sql.Row]] = List(MapPartitionsRDD[40] at map at <console>:52, MapPartitionsRDD[43] at map at <console>:52, MapPartitionsRDD[46] at map at <console>:52, MapPartitionsRDD[49] at map at <console>:52, MapPartitionsRDD[52] at map at <console>:52, MapPartitionsRDD[55] at map at <console>:52, MapPartitionsRDD[58] at map at <console>:52, MapPartitionsRDD[61] at map at <console>:52)\n"
      ]
     },
     "execution_count": 26,
     "metadata": {},
     "output_type": "execute_result"
    }
   ],
   "execution_count": 26
  },
  {
   "cell_type": "markdown",
   "id": "795fbb90ba3dc7a9",
   "metadata": {},
   "source": [
    "16) Reduce to single rdd and write output"
   ]
  },
  {
   "cell_type": "code",
   "id": "f147c54fa9f01d8a",
   "metadata": {
    "ExecuteTime": {
     "end_time": "2025-07-04T15:00:10.232178Z",
     "start_time": "2025-07-04T14:07:57.312177Z"
    }
   },
   "source": [
    "import org.apache.spark.sql.types._\n",
    "\n",
    "val headersForSchema = Seq(\n",
    "  StructField(\"feature\", StringType),\n",
    "  StructField(\"value\", StringType),\n",
    "  StructField(\"count\", IntegerType),\n",
    "  StructField(\"pcg\", DoubleType),\n",
    "  StructField(\"cost_distance_label\", StringType),\n",
    "  StructField(\"cost_time_label\", StringType)\n",
    ")\n",
    "\n",
    "val schema = StructType(headersForSchema)\n",
    "\n",
    "val dfForAnalysis = spark.createDataFrame(rddFeatures.reduce(_ union _).coalesce(1), schema)\n",
    "\n",
    "dfForAnalysis.show(1)\n",
    "val endTime = System.currentTimeMillis()\n",
    "val durationMs = endTime - startTime\n",
    "\n",
    "println(s\"Job $name-dataset non optimized executed in $durationMs ms\")\n",
    "\n",
    "dfForAnalysis.write.mode(\"overwrite\").parquet(getDatasetPath(outputDir + f\"/$name\"))"
   ],
   "outputs": [
    {
     "name": "stdout",
     "output_type": "stream",
     "text": [
      "+---------------+-----+-----+------+-------------------+---------------+\n",
      "|        feature|value|count|   pcg|cost_distance_label|cost_time_label|\n",
      "+---------------+-----+-----+------+-------------------+---------------+\n",
      "|passenger_count|  6.0|    1|1.0E-4|            [35|40)|      [-95|-90)|\n",
      "+---------------+-----+-----+------+-------------------+---------------+\n",
      "only showing top 1 row\n",
      "\n",
      "Job green-dataset non optimized executed in 65787 ms\n"
     ]
    },
    {
     "data": {
      "text/plain": [
       "import org.apache.spark.sql.types._\n",
       "headersForSchema: Seq[org.apache.spark.sql.types.StructField] = List(StructField(feature,StringType,true), StructField(value,StringType,true), StructField(count,IntegerType,true), StructField(pcg,DoubleType,true), StructField(cost_distance_label,StringType,true), StructField(cost_time_label,StringType,true))\n",
       "schema: org.apache.spark.sql.types.StructType = StructType(StructField(feature,StringType,true),StructField(value,StringType,true),StructField(count,IntegerType,true),StructField(pcg,DoubleType,true),StructField(cost_distance_label,StringType,true),StructField(cost_time_label,StringType,true))\n",
       "dfForAnalysis: org.apache.spark.sql.DataFrame = [feature: string, value: string ... 4 more fields]\n",
       "endTime: Long = 1751638099307\n",
       "durationMs: Long = 65787\n"
      ]
     },
     "execution_count": 27,
     "metadata": {},
     "output_type": "execute_result"
    }
   ],
   "execution_count": 27
  }
 ],
 "metadata": {
  "kernelspec": {
   "display_name": "spylon-kernel",
   "language": "scala",
   "name": "spylon-kernel"
  },
  "language_info": {
   "codemirror_mode": "text/x-scala",
   "file_extension": ".scala",
   "help_links": [
    {
     "text": "MetaKernel Magics",
     "url": "https://metakernel.readthedocs.io/en/latest/source/README.html"
    }
   ],
   "mimetype": "text/x-scala",
   "name": "scala",
   "pygments_lexer": "scala",
   "version": "0.4.1"
  }
 },
 "nbformat": 4,
 "nbformat_minor": 5
}
