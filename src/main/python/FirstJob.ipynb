{
 "cells": [
  {
   "cell_type": "markdown",
   "id": "cefe988a9aff7538",
   "metadata": {},
   "source": [
    "# Big Data project A.Y. 2024-2025 - First Job\n",
    "\n",
    "## Members\n",
    "\n",
    "- Giovanni Antonioni\n",
    "- Luca Rubboli - 0001083742"
   ]
  },
  {
   "cell_type": "code",
   "id": "c9c769832012f1b0",
   "metadata": {
    "ExecuteTime": {
     "end_time": "2025-05-30T14:05:45.324451Z",
     "start_time": "2025-05-30T14:05:27.899012Z"
    }
   },
   "source": [
    "import org.apache.spark.sql.SparkSession\n",
    "\n",
    "val spark = SparkSession.builder\n",
    "  .appName(\"First job\")\n",
    "  .getOrCreate()\n",
    "\n",
    "val sc = spark.sparkContext"
   ],
   "outputs": [
    {
     "data": {
      "text/plain": [
       "Intitializing Scala interpreter ..."
      ]
     },
     "metadata": {},
     "output_type": "display_data"
    },
    {
     "data": {
      "text/plain": [
       "Spark Web UI available at http://10.201.104.254:4040\n",
       "SparkContext available as 'sc' (version = 3.5.1, master = local[*], app id = local-1748613932962)\n",
       "SparkSession available as 'spark'\n"
      ]
     },
     "metadata": {},
     "output_type": "display_data"
    },
    {
     "data": {
      "text/plain": [
       "import org.apache.spark.sql.SparkSession\n",
       "spark: org.apache.spark.sql.SparkSession = org.apache.spark.sql.SparkSession@32a05e2f\n",
       "sc: org.apache.spark.SparkContext = org.apache.spark.SparkContext@159d880b\n"
      ]
     },
     "execution_count": 1,
     "metadata": {},
     "output_type": "execute_result"
    }
   ],
   "execution_count": 1
  },
  {
   "metadata": {},
   "cell_type": "markdown",
   "source": [
    "### Define useful parameters\n",
    "\n",
    "- Dataset location\n",
    "- Iterator (defined like this to overcome different names for same columns in dataset)"
   ],
   "id": "72ce3e263b662de6"
  },
  {
   "cell_type": "code",
   "id": "initial_id",
   "metadata": {
    "ExecuteTime": {
     "end_time": "2025-05-30T14:05:47.709515Z",
     "start_time": "2025-05-30T14:05:45.336390Z"
    }
   },
   "source": [
    "val decimals: Int = 4\n",
    "val datasetDir = \"dataset\"\n",
    "val outputDir = \"output/firstJobOutput\"\n",
    "val yellowDatasetDir = s\"$datasetDir/yellow_cab\"\n",
    "val greenDatasetDir = s\"$datasetDir/green_cab\"\n",
    "val fhvDatasetDir = s\"$datasetDir/fhv_cab\"\n",
    "val fhvhvDatasetDir = s\"$datasetDir/fhvhv_cab\"\n",
    "val datasetDirMap: Map[String, String] = Map(\"yellow\" -> yellowDatasetDir, \"green\" -> greenDatasetDir, \"fhv\" -> fhvDatasetDir, \"fhvhv\" -> fhvhvDatasetDir)\n",
    "val datasetIterator: Map[String, (String, String)] = Map(\n",
    "  \"yellow\" -> (\"tpep_dropoff_datetime\", \"tpep_pickup_datetime\"),\n",
    "  \"green\" -> (\"lpep_dropoff_datetime\", \"lpep_pickup_datetime\"),\n",
    "  // (\"fhv\", \"tpep_dropoff_datetime\", \"tpep_pickup_datetime\"),\n",
    "  // (\"fhvhv\", \"tpep_dropoff_datetime\", \"tpep_pickup_datetime\"),\n",
    ")"
   ],
   "outputs": [
    {
     "data": {
      "text/plain": [
       "decimals: Int = 4\n",
       "datasetDir: String = dataset\n",
       "outputDir: String = output/firstJobOutput\n",
       "yellowDatasetDir: String = dataset/yellow_cab\n",
       "greenDatasetDir: String = dataset/green_cab\n",
       "fhvDatasetDir: String = dataset/fhv_cab\n",
       "fhvhvDatasetDir: String = dataset/fhvhv_cab\n",
       "datasetDirMap: Map[String,String] = Map(yellow -> dataset/yellow_cab, green -> dataset/green_cab, fhv -> dataset/fhv_cab, fhvhv -> dataset/fhvhv_cab)\n",
       "datasetIterator: Map[String,(String, String)] = Map(yellow -> (tpep_dropoff_datetime,tpep_pickup_datetime), green -> (lpep_dropoff_datetime,lpep_pickup_datetime))\n"
      ]
     },
     "execution_count": 2,
     "metadata": {},
     "output_type": "execute_result"
    }
   ],
   "execution_count": 2
  },
  {
   "cell_type": "markdown",
   "id": "801ff1e945bd4c8",
   "metadata": {},
   "source": [
    "## Define Columns for analysis\n",
    "- Columns names\n",
    "- Time zones for overprice\n",
    "- Columns used in classification for average price calculation\n",
    "- Columns which values are used in analysis"
   ]
  },
  {
   "cell_type": "code",
   "id": "bfdb3f87a1c6a6c8",
   "metadata": {
    "ExecuteTime": {
     "end_time": "2025-05-30T14:05:48.871353Z",
     "start_time": "2025-05-30T14:05:47.716233Z"
    }
   },
   "source": [
    "val colDurationMinutes: String = \"duration_minutes\"\n",
    "val colDurationMinutesBinLabel: String = \"duration_minutes_bin_label\"\n",
    "val colYear: String = \"year\"\n",
    "val colWeekdaySurcharge: String = \"weekday_surcharge\"\n",
    "val colAggregateFee: String = \"fees\"\n",
    "val colAggregateFeeBin: String = \"agg_fee_bin_label\"\n",
    "val colDistanceBin: String = \"distance_bin_label\"\n",
    "val colFareAmount: String = \"fare_amount\"\n",
    "val colPricePerDistance: String = \"cost_per_distance\"\n",
    "val colPricePerTime: String = \"cost_per_time\"\n",
    "val colAvgPricePerDistance: String = \"avg_cost_per_distance\"\n",
    "val colAvgPricePerTime: String = \"avg_cost_per_time\"\n",
    "val colPricePerDistanceDiff: String = \"cost_per_distance_diff\"\n",
    "val colPricePerDistanceDiffPcg: String = \"cost_per_distance_diff_pcg\"\n",
    "val colPricePerTimeDiff: String = \"cost_per_time_diff\"\n",
    "val colPricePerTimeDiffPcg: String = \"cost_per_time_diff_pcg\"\n",
    "val colPricePerDistanceDiffPcgLabel: String = colPricePerDistanceDiffPcg + \"_label\"\n",
    "val colPricePerTimeDiffPcgLabel: String = colPricePerTimeDiffPcg + \"_label\"\n",
    "\n",
    "val timeZoneOver: String = \"overnight\"\n",
    "val timeZones = Map(timeZoneOver -> (20, 6), \"regular\" -> (6, 20))\n",
    "val weekDaySurcharge: Double = 2.5\n",
    "\n",
    "val colDurationOvernightPcg: String = s\"${timeZoneOver}_duration_pcg\"\n",
    "\n",
    "val colToUse: Set[String] = Set(\n",
    "  \"tpep_pickup_datetime\",\n",
    "  \"tpep_dropoff_datetime\",\n",
    "  \"lpep_pickup_datetime\",\n",
    "  \"lpep_dropoff_datetime\",\n",
    "  \"passenger_count\",\n",
    "  \"trip_distance\",\n",
    "  \"ratecodeid\",\n",
    "  \"store_and_fwd_flag\",\n",
    "  \"payment_type\",\n",
    "  \"fare_amount\",\n",
    "  \"extra\",\n",
    "  \"mta_tax\",\n",
    "  \"tip_amount\",\n",
    "  \"tolls_amount\",\n",
    "  \"improvement_surcharge\",\n",
    "  \"total_amount\",\n",
    "  \"congestion_surcharge\",\n",
    "  \"airport_fee\")\n",
    "\n",
    "val colFees: Set[String] = Set(\n",
    "  \"extra\",\n",
    "  \"mta_tax\",\n",
    "  \"improvement_surcharge\",\n",
    "  \"congestion_surcharge\",\n",
    "  \"airport_fee\")\n",
    "\n",
    "val colsForClassification: Seq[String] = Seq(\n",
    "  \"passenger_count\",\n",
    "  \"store_and_fwd_flag\",\n",
    "  \"payment_type\",\n",
    "  colAggregateFeeBin,\n",
    "  colDurationMinutesBinLabel,\n",
    "  colDistanceBin,\n",
    "  colYear,\n",
    "  s\"${colDurationOvernightPcg}_label\",\n",
    "  colPricePerDistanceDiffPcgLabel,\n",
    "  colPricePerTimeDiffPcgLabel\n",
    ")\n",
    "\n",
    "val colsForValuesAnalysis: Seq[String] = Seq(\n",
    "  \"passenger_count\",\n",
    "  \"store_and_fwd_flag\",\n",
    "  \"payment_type\",\n",
    "  colAggregateFeeBin,\n",
    "  colDurationMinutesBinLabel,\n",
    "  colDistanceBin,\n",
    "  colYear,\n",
    "  s\"${colDurationOvernightPcg}_label\",\n",
    ")"
   ],
   "outputs": [
    {
     "data": {
      "text/plain": [
       "colDurationMinutes: String = duration_minutes\n",
       "colDurationMinutesBinLabel: String = duration_minutes_bin_label\n",
       "colYear: String = year\n",
       "colWeekdaySurcharge: String = weekday_surcharge\n",
       "colAggregateFee: String = fees\n",
       "colAggregateFeeBin: String = agg_fee_bin_label\n",
       "colDistanceBin: String = distance_bin_label\n",
       "colFareAmount: String = fare_amount\n",
       "colPricePerDistance: String = cost_per_distance\n",
       "colPricePerTime: String = cost_per_time\n",
       "colAvgPricePerDistance: String = avg_cost_per_distance\n",
       "colAvgPricePerTime: String = avg_cost_per_time\n",
       "colPricePerDistanceDiff: String = cost_per_distance_diff\n",
       "colPricePerDistanceDiffPcg: String = cost_per_distance_diff_pcg\n",
       "colPricePerTimeDiff: String = cost_per_time_diff\n",
       "colPricePerTimeDiffPcg: String = cost_per_time_diff_pcg\n",
       "colPricePerDistanceDiffPcgLabel: String = ...\n"
      ]
     },
     "execution_count": 3,
     "metadata": {},
     "output_type": "execute_result"
    }
   ],
   "execution_count": 3
  },
  {
   "cell_type": "markdown",
   "id": "6251e1a01e2d34a6",
   "metadata": {},
   "source": [
    "### Define preprocess rules"
   ]
  },
  {
   "cell_type": "code",
   "id": "f3c66b94d590de92",
   "metadata": {
    "ExecuteTime": {
     "end_time": "2025-05-30T14:05:50.154347Z",
     "start_time": "2025-05-30T14:05:48.876308Z"
    }
   },
   "source": [
    "val featureFilters: Map[String, Any => Boolean] = Map(\n",
    "  \"passenger_count\" -> {\n",
    "    case i: Int => i > 0\n",
    "    case f: Float => val i = f.toInt; i > 0\n",
    "    case d: Double => val i = d.toInt; i > 0\n",
    "    case _ => false\n",
    "  },\n",
    "  \"trip_distance\" -> {\n",
    "    case i: Int => i > 0\n",
    "    case i: Float => i > 0\n",
    "    case i: Double => i > 0\n",
    "    case _ => false\n",
    "  },\n",
    "  \"ratecodeid\" -> {\n",
    "    case i: Int => (i >= 1 && i <= 6) || i == 99\n",
    "    case f: Float => val i = f.toInt; (i >= 1 && i <= 6) || i == 99\n",
    "    case d: Double => val i = d.toInt; (i >= 1 && i <= 6) || i == 99\n",
    "    case _ => false\n",
    "  },\n",
    "  \"store_and_fwd_flag\" -> {\n",
    "    case i: String => i == \"Y\" || i == \"N\"\n",
    "    case _ => false\n",
    "  },\n",
    "  \"payment_type\" -> {\n",
    "    case i: Int => i >= 1 && i <= 6\n",
    "    case f: Float => val i = f.toInt; i >= 1 && i <= 6\n",
    "    case d: Double => val i = d.toInt; i >= 1 && i <= 6\n",
    "    case _ => false\n",
    "  },\n",
    "  \"fare_amount\" -> {\n",
    "    case i: Int => i > 0\n",
    "    case i: Float => i > 0\n",
    "    case i: Double => i > 0\n",
    "    case _ => false\n",
    "  },\n",
    "  \"tolls_amount\" -> {\n",
    "    case i: Int => i >= 0 && i < 200\n",
    "    case i: Float => i >= 0 && i < 200\n",
    "    case i: Double => i >= 0 && i < 200\n",
    "    case _ => false\n",
    "  }\n",
    ")\n",
    "\n",
    "val taxFilter: Any => Boolean = {\n",
    "  case tax: Int => tax >= 0 && tax < 20\n",
    "  case tax: Float => tax >= 0 && tax < 20\n",
    "  case tax: Double => tax >= 0 && tax < 20\n",
    "  case _ => false\n",
    "}"
   ],
   "outputs": [
    {
     "data": {
      "text/plain": [
       "featureFilters: Map[String,Any => Boolean] = Map(trip_distance -> $Lambda$2372/0x0000000801086040@38809d7a, tolls_amount -> $Lambda$2377/0x000000080108a040@5007466a, payment_type -> $Lambda$2375/0x0000000801088840@5e558d84, fare_amount -> $Lambda$2376/0x0000000801089040@5f4cf1ed, passenger_count -> $Lambda$2371/0x0000000801085840@631bcc33, store_and_fwd_flag -> $Lambda$2374/0x0000000801087840@9c5f22c, ratecodeid -> $Lambda$2373/0x0000000801087040@7b8e673d)\n",
       "taxFilter: Any => Boolean = $Lambda$2378/0x000000080108a840@43f53238\n"
      ]
     },
     "execution_count": 4,
     "metadata": {},
     "output_type": "execute_result"
    }
   ],
   "execution_count": 4
  },
  {
   "cell_type": "markdown",
   "id": "46150dfaa1006964",
   "metadata": {},
   "source": [
    "### Utils functions for rdd"
   ]
  },
  {
   "cell_type": "code",
   "id": "9aae38423ac3200c",
   "metadata": {
    "ExecuteTime": {
     "end_time": "2025-05-30T14:05:52.153581Z",
     "start_time": "2025-05-30T14:05:50.160605Z"
    }
   },
   "source": [
    "import java.time.temporal.ChronoUnit\n",
    "import java.time.{DayOfWeek, LocalDate, LocalDateTime}\n",
    "import org.apache.spark.rdd.RDD\n",
    "import org.apache.spark.sql.Row\n",
    "import scala.math.BigDecimal.RoundingMode\n",
    "\n",
    "val projectDir: String = \"/Users/luca/Desktop/Luca/Università/Magistrale/Corsi/BigData/Drivers\"\n",
    "\n",
    "def getDatasetPath(localPath: String): String = {\n",
    "  \"file://\" + projectDir + \"/\" + localPath\n",
    "}\n",
    "\n",
    "def binColByStepValue(rdd: RDD[Row], indexOfColToDiscrete: Int, stepValue: Int = 5): RDD[Row] = {\n",
    "  rdd.map { row =>\n",
    "    val value: Double = row.get(indexOfColToDiscrete) match {\n",
    "      case i: Int => i.toDouble\n",
    "      case d: Double => d\n",
    "      case l: Long => l.toDouble\n",
    "      case s: String => try { s.toDouble } catch { case _: Throwable => Double.NaN}\n",
    "      case _ => Double.NaN\n",
    "    }\n",
    "\n",
    "    val rawBin = (value / stepValue).toInt * stepValue\n",
    "    val binBase = if (value < 0 && value % stepValue == 0) rawBin + stepValue else rawBin\n",
    "    val label = if (value < 0) { s\"[${(binBase - stepValue).toInt}|${binBase.toInt})\" } else { s\"[${binBase.toInt}|${(binBase + stepValue).toInt})\" }\n",
    "\n",
    "    Row.fromSeq(row.toSeq :+ label)\n",
    "  }\n",
    "}\n",
    "\n",
    "val castForFilter: Any => Any = {\n",
    "  case s: String => if (s.matches(\"\"\"^-?\\d+\\.\\d+$\"\"\")) s.toDouble else if (s.matches(\"\"\"^-?\\d+$\"\"\")) s.toInt else s.trim\n",
    "  case d: Double => d\n",
    "  case i: Int => i\n",
    "  case l: Long => l.toDouble\n",
    "  case f: Float => f.toDouble\n",
    "  case b: Boolean => b\n",
    "  case null => null\n",
    "  case other => other.toString.trim\n",
    "}\n",
    "\n",
    "val preciseBucketUDF: (Map[String, (Int, Int)], LocalDateTime, LocalDateTime, Int) => Map[String, Double] = { (timeZones: Map[String, (Int, Int)], start: LocalDateTime, end: LocalDateTime, decimals: Int) =>\n",
    "\n",
    "  val overlap: (LocalDateTime, LocalDateTime, LocalDateTime, LocalDateTime, Int) => Double = { (start1: LocalDateTime, end1: LocalDateTime, start2: LocalDateTime, end2: LocalDateTime, decimals: Int) =>\n",
    "    val overlapStart = if (start1.isAfter(start2)) start1 else start2\n",
    "    val overlapEnd = if (end1.isBefore(end2)) end1 else end2\n",
    "    if (overlapEnd.isAfter(overlapStart)) BigDecimal(ChronoUnit.MILLIS.between(overlapStart, overlapEnd) / 60000.0).setScale(decimals, RoundingMode.HALF_UP).toDouble else 0.0\n",
    "  }\n",
    "\n",
    "  var result = timeZones.keys.map(_ -> 0.0).toMap\n",
    "\n",
    "  if (!(start == null || end == null)) {\n",
    "\n",
    "    if (!end.isBefore(start)) {\n",
    "\n",
    "      var current = start.toLocalDate.atStartOfDay\n",
    "\n",
    "      while (!current.isAfter(end)) {\n",
    "        val nextDay = current.plusDays(1)\n",
    "\n",
    "        timeZones.foreach {\n",
    "          case (label, (startHour, endHour)) if startHour > endHour =>\n",
    "            val bucketStartBeforeMidnight = current.withHour(startHour).withMinute(0).withSecond(0).withNano(0)\n",
    "            val bucketEndBeforeMidnight = current.withHour(23).withMinute(59).withSecond(59)\n",
    "            val bucketStartAfterMidnight = current.withHour(0).withMinute(0).withSecond(0).withNano(0)\n",
    "            val bucketEndAfterMidnight = current.withHour(endHour).withMinute(0).withSecond(0).withNano(0)\n",
    "\n",
    "            val minutesBeforeMidnight = overlap(start, end, bucketStartBeforeMidnight, bucketEndBeforeMidnight, decimals)\n",
    "            val minutesAfterMidnight = overlap(start, end, bucketStartAfterMidnight, bucketEndAfterMidnight, decimals)\n",
    "\n",
    "            result = result.updated(label, result(label) + minutesBeforeMidnight + minutesAfterMidnight)\n",
    "\n",
    "          case (label, (startHour, endHour)) =>\n",
    "            val bucketStart = current.withHour(startHour).withMinute(0).withSecond(0).withNano(0)\n",
    "            val bucketEnd = if (endHour == 24) current.plusDays(1).withHour(0).withMinute(0).withSecond(0).withNano(0) else current.withHour(endHour).withMinute(0).withSecond(0).withNano(0)\n",
    "\n",
    "            val minutes = overlap(start, end, bucketStart, bucketEnd, decimals)\n",
    "\n",
    "            result = result.updated(label, result(label) + minutes)\n",
    "        }\n",
    "\n",
    "        current = nextDay\n",
    "      }\n",
    "    }\n",
    "  }\n",
    "  result\n",
    "}\n",
    "\n",
    "val isUSHolidayOrWeekend: LocalDate => Boolean = { date =>\n",
    "  val month = date.getMonthValue\n",
    "  val day = date.getDayOfMonth\n",
    "  val dayOfWeek = date.getDayOfWeek\n",
    "\n",
    "  val isIndependenceDay = month == 7 && day == 4\n",
    "  val isChristmas = month == 12 && day == 25\n",
    "  val isNewYear = month == 1 && day == 1\n",
    "  val isLaborDay = month == 9 && dayOfWeek == DayOfWeek.MONDAY && day <= 7\n",
    "\n",
    "  val isThanksgiving = month == 11 && dayOfWeek == DayOfWeek.THURSDAY && day >= 22 && day <= 28 && ((day - 1) / 7 + 1 == 4)\n",
    "\n",
    "  isIndependenceDay || isChristmas || isNewYear || isLaborDay || isThanksgiving || dayOfWeek == DayOfWeek.SATURDAY || dayOfWeek == DayOfWeek.SUNDAY\n",
    "}"
   ],
   "outputs": [
    {
     "data": {
      "text/plain": [
       "import java.time.temporal.ChronoUnit\n",
       "import java.time.{DayOfWeek, LocalDate, LocalDateTime}\n",
       "import org.apache.spark.rdd.RDD\n",
       "import org.apache.spark.sql.Row\n",
       "import scala.math.BigDecimal.RoundingMode\n",
       "projectDir: String = /Users/luca/Desktop/Luca/Università/Magistrale/Corsi/BigData/Drivers\n",
       "getDatasetPath: (localPath: String)String\n",
       "binColByStepValue: (rdd: org.apache.spark.rdd.RDD[org.apache.spark.sql.Row], indexOfColToDiscrete: Int, stepValue: Int)org.apache.spark.rdd.RDD[org.apache.spark.sql.Row]\n",
       "castForFilter: Any => Any = $Lambda$2515/0x00000008010f6840@15117922\n",
       "preciseBucketUDF: (Map[String,(Int, Int)], java.time.LocalDateTime, java.time.LocalDateTime, Int) => Map[String,Double] = $Lambda$2516/0x00000008010f7040@6cc3dc63\n",
       "isUSHolidayOrWeekend: java.time.LocalDate => Boolean = $Lambda$25...\n"
      ]
     },
     "execution_count": 5,
     "metadata": {},
     "output_type": "execute_result"
    }
   ],
   "execution_count": 5
  },
  {
   "cell_type": "markdown",
   "id": "d67c5a94825ecee9",
   "metadata": {},
   "source": [
    "# Actual job\n",
    "\n",
    "1) Select dataset [yellow or green]"
   ]
  },
  {
   "cell_type": "code",
   "id": "60aee06709329346",
   "metadata": {
    "ExecuteTime": {
     "end_time": "2025-05-30T14:05:52.562163Z",
     "start_time": "2025-05-30T14:05:52.159399Z"
    }
   },
   "source": [
    "val name: String = \"yellow\"\n",
    "val (dropoff, pickup) = datasetIterator(name)"
   ],
   "outputs": [
    {
     "data": {
      "text/plain": [
       "name: String = yellow\n",
       "dropoff: String = tpep_dropoff_datetime\n",
       "pickup: String = tpep_pickup_datetime\n"
      ]
     },
     "execution_count": 6,
     "metadata": {},
     "output_type": "execute_result"
    }
   ],
   "execution_count": 6
  },
  {
   "metadata": {},
   "cell_type": "markdown",
   "source": "2) Load dataset",
   "id": "6e3fcaeb36518cd9"
  },
  {
   "metadata": {
    "ExecuteTime": {
     "end_time": "2025-05-30T14:05:56.026887Z",
     "start_time": "2025-05-30T14:05:52.566591Z"
    }
   },
   "cell_type": "code",
   "source": [
    "val startTime = System.currentTimeMillis()\n",
    "\n",
    "val dataset = spark.read.parquet(getDatasetPath(datasetDirMap(name)))\n",
    "var headers: Seq[String] = dataset.columns.map(_.toLowerCase)\n",
    "val indexesToUse: Seq[Int] = headers.zipWithIndex.collect {\n",
    "  case(h, i) if colToUse.contains(h.toLowerCase) => i\n",
    "}"
   ],
   "id": "a846e646fac3bac4",
   "outputs": [
    {
     "data": {
      "text/plain": [
       "startTime: Long = 1748613953347\n",
       "dataset: org.apache.spark.sql.DataFrame = [VendorID: int, tpep_pickup_datetime: timestamp_ntz ... 17 more fields]\n",
       "headers: Seq[String] = ArraySeq(vendorid, tpep_pickup_datetime, tpep_dropoff_datetime, passenger_count, trip_distance, ratecodeid, store_and_fwd_flag, pulocationid, dolocationid, payment_type, fare_amount, extra, mta_tax, tip_amount, tolls_amount, improvement_surcharge, total_amount, congestion_surcharge, airport_fee)\n",
       "indexesToUse: Seq[Int] = ArraySeq(1, 2, 3, 4, 5, 6, 9, 10, 11, 12, 13, 14, 15, 16, 17, 18)\n"
      ]
     },
     "execution_count": 7,
     "metadata": {},
     "output_type": "execute_result"
    }
   ],
   "execution_count": 7
  },
  {
   "metadata": {},
   "cell_type": "markdown",
   "source": "3) Filter taxes and features based on filter conditions previously defined",
   "id": "df209b8e24cd13e9"
  },
  {
   "metadata": {
    "ExecuteTime": {
     "end_time": "2025-05-30T14:05:59.316668Z",
     "start_time": "2025-05-30T14:05:56.032953Z"
    }
   },
   "cell_type": "code",
   "source": [
    "import org.apache.spark.sql.DataFrame\n",
    "\n",
    "def transformRDD(dataset: DataFrame, headers: Seq[String], idxs: Seq[Int], castFunc: Any => Any): RDD[Row] = {\n",
    "  dataset.rdd.map(row => Row.fromSeq(idxs.map(row.get).map(castFunc)))\n",
    "}\n",
    "\n",
    "val rdd = transformRDD(dataset, headers, indexesToUse, castForFilter)\n",
    "headers = headers.filter(head => colToUse.contains(head.toLowerCase))\n",
    "\n",
    "def applyFilters(rdd: RDD[Row], headers: Seq[String], colOfFees: Set[String], taxFilter: Any => Boolean, featFilter: Map[String, Any => Boolean]): RDD[Row] = {\n",
    "  rdd.filter { row =>\n",
    "    headers.zip(row.toSeq).forall {case(header: String, value) =>\n",
    "      val taxFilterCondition = if (colOfFees.contains(header.toLowerCase)) taxFilter(value) else true\n",
    "      featFilter.get(header.toLowerCase) match {\n",
    "        case Some(filterFunc) => taxFilterCondition && filterFunc(value)\n",
    "        case None => taxFilterCondition // no filter defined for this column, so accept it\n",
    "      }\n",
    "    }\n",
    "  }\n",
    "}\n",
    "\n",
    "val rddFiltered = applyFilters(rdd, headers, colFees, taxFilter, featureFilters)"
   ],
   "id": "f8a8a0eaeaa2d294",
   "outputs": [
    {
     "data": {
      "text/plain": [
       "import org.apache.spark.sql.DataFrame\n",
       "transformRDD: (dataset: org.apache.spark.sql.DataFrame, headers: Seq[String], idxs: Seq[Int], castFunc: Any => Any)org.apache.spark.rdd.RDD[org.apache.spark.sql.Row]\n",
       "rdd: org.apache.spark.rdd.RDD[org.apache.spark.sql.Row] = MapPartitionsRDD[8] at map at <console>:40\n",
       "headers: Seq[String] = ArraySeq(tpep_pickup_datetime, tpep_dropoff_datetime, passenger_count, trip_distance, ratecodeid, store_and_fwd_flag, payment_type, fare_amount, extra, mta_tax, tip_amount, tolls_amount, improvement_surcharge, total_amount, congestion_surcharge, airport_fee)\n",
       "applyFilters: (rdd: org.apache.spark.rdd.RDD[org.apache.spark.sql.Row], headers: Seq[String], colOfFees: Set[String], taxFilter: Any => Boolean, featFilter: Map[String,Any => Boolean])org.apache.spark.rdd.RDD[o...\n"
      ]
     },
     "execution_count": 8,
     "metadata": {},
     "output_type": "execute_result"
    }
   ],
   "execution_count": 8
  },
  {
   "metadata": {},
   "cell_type": "markdown",
   "source": "4) Add duration and timezones",
   "id": "523a6cb64b4c03d8"
  },
  {
   "metadata": {
    "ExecuteTime": {
     "end_time": "2025-05-30T14:06:00.337015Z",
     "start_time": "2025-05-30T14:05:59.322685Z"
    }
   },
   "cell_type": "code",
   "source": [
    "import java.time.format.DateTimeFormatter\n",
    "import java.time.Duration\n",
    "\n",
    "def addDuration(rdd: RDD[Row], headers: Seq[String], pickup: String, dropoff: String, decimals: Int): RDD[Row] = {\n",
    "  rdd.map {row =>\n",
    "    val formatter = DateTimeFormatter.ofPattern(\"yyyy-MM-dd'T'HH:mm[:ss]\")\n",
    "\n",
    "    val pickupStr = row.getAs[String](headers.indexOf(pickup)).trim\n",
    "    val dropoffStr = row.getAs[String](headers.indexOf(dropoff)).trim\n",
    "\n",
    "    val pickupTS = LocalDateTime.parse(pickupStr, formatter)\n",
    "    val dropoffTS = LocalDateTime.parse(dropoffStr, formatter)\n",
    "    val durationMillis = Duration.between(pickupTS, dropoffTS).toMillis\n",
    "    val durationMinutes = BigDecimal(durationMillis / 60000.0).setScale(decimals, RoundingMode.HALF_UP).toDouble\n",
    "\n",
    "    val pickupYear = pickupTS.getYear\n",
    "\n",
    "    Row.fromSeq(row.toSeq ++ Seq(durationMinutes, pickupYear))\n",
    "  }.filter { row => row.getAs[Double](row.toSeq.length - 2) > 0.0 }\n",
    "}\n",
    "\n",
    "val rddDuration = addDuration(rddFiltered, headers, pickup, dropoff, decimals)\n",
    "headers = headers ++ Seq(colDurationMinutes, colYear)\n",
    "\n",
    "val rddDurationBin = binColByStepValue(rddDuration, headers.indexOf(colDurationMinutes), 5)\n",
    "headers = headers :+ colDurationMinutesBinLabel\n",
    "\n",
    "def addTimeZones(rdd: RDD[Row], headers: Seq[String], timezones: Map[String, (Int, Int)], weekDaySurcharge: Double, colDuration: String, pickup: String, dropoff: String, decimals: Int, preciseBucketUDF: (Map[String, (Int, Int)], LocalDateTime, LocalDateTime, Int) => Map[String, Double], isUSHolidayOrWeekendTZ: LocalDate => Boolean): RDD[Row] = {\n",
    "  rdd.map { row =>\n",
    "    val formatter = DateTimeFormatter.ofPattern(\"yyyy-MM-dd'T'HH:mm[:ss]\")\n",
    "\n",
    "    val timeZonesDuration: Map[String, Double] = preciseBucketUDF(timezones, LocalDateTime.parse(row.getAs[String](headers.indexOf(pickup)).trim, formatter), LocalDateTime.parse(row.getAs[String](headers.indexOf(dropoff)).trim, formatter), decimals)\n",
    "\n",
    "    val weekday_surcharge: Double = if (isUSHolidayOrWeekendTZ(LocalDateTime.parse(row.getAs[String](headers.indexOf(pickup)).trim, formatter).toLocalDate)) 0 else weekDaySurcharge\n",
    "    val colsToAdd: Seq[Double] = timezones.keys.toSeq.flatMap { tz =>\n",
    "      val duration = timeZonesDuration.getOrElse(tz, 0.0)\n",
    "      val totalDuration = row.getAs[Double](headers.indexOf(colDuration))\n",
    "      Seq(duration, BigDecimal(duration * 100 / totalDuration).setScale(decimals, RoundingMode.HALF_UP).toDouble)\n",
    "    }\n",
    "    Row.fromSeq((row.toSeq ++ colsToAdd) :+ weekday_surcharge)\n",
    "  }\n",
    "}\n",
    "\n",
    "val rddTimeZones = addTimeZones(rddDurationBin, headers, timeZones, weekDaySurcharge, colDurationMinutes, pickup, dropoff, decimals, preciseBucketUDF, isUSHolidayOrWeekend)\n",
    "\n",
    "val headersToAdd: Seq[String] = timeZones.keys.toSeq.flatMap { tz =>\n",
    "  Seq(tz + \"_duration\", tz + \"_duration_pcg\")\n",
    "} :+ colWeekdaySurcharge\n",
    "\n",
    "headers = headers ++ headersToAdd"
   ],
   "id": "9f3672bebd356114",
   "outputs": [
    {
     "data": {
      "text/plain": [
       "import java.time.format.DateTimeFormatter\n",
       "import java.time.Duration\n",
       "addDuration: (rdd: org.apache.spark.rdd.RDD[org.apache.spark.sql.Row], headers: Seq[String], pickup: String, dropoff: String, decimals: Int)org.apache.spark.rdd.RDD[org.apache.spark.sql.Row]\n",
       "rddDuration: org.apache.spark.rdd.RDD[org.apache.spark.sql.Row] = MapPartitionsRDD[11] at filter at <console>:63\n",
       "headers: Seq[String] = ArraySeq(tpep_pickup_datetime, tpep_dropoff_datetime, passenger_count, trip_distance, ratecodeid, store_and_fwd_flag, payment_type, fare_amount, extra, mta_tax, tip_amount, tolls_amount, improvement_surcharge, total_amount, congestion_surcharge, airport_fee, duration_minutes, year, duration_minutes_bin_label, overnight_duration, overnight_duration_pcg, regular_duration, regular_duration_pcg, weekday...\n"
      ]
     },
     "execution_count": 9,
     "metadata": {},
     "output_type": "execute_result"
    }
   ],
   "execution_count": 9
  },
  {
   "metadata": {},
   "cell_type": "markdown",
   "source": "5) Add Aggregate fees and bins",
   "id": "135d87a329e10208"
  },
  {
   "cell_type": "code",
   "id": "cfb99aef020692d9",
   "metadata": {
    "ExecuteTime": {
     "end_time": "2025-05-30T14:06:01.198010Z",
     "start_time": "2025-05-30T14:06:00.342798Z"
    }
   },
   "source": [
    "def addAggregateFees(rdd: RDD[Row], headers: Seq[String], colOfFees: Set[String]): RDD[Row] = {\n",
    "  rdd.map { row =>\n",
    "    val fees = colOfFees\n",
    "      .filter(col => headers.contains(col.toLowerCase))\n",
    "      .map(col => row.getAs[Double](headers.indexOf(col.toLowerCase))).sum\n",
    "\n",
    "    Row.fromSeq(row.toSeq :+ fees)\n",
    "  }\n",
    "}\n",
    "\n",
    "val rddAggFees = addAggregateFees(rddTimeZones, headers, colFees)\n",
    "headers = headers :+ colAggregateFee\n",
    "\n",
    "val rddAggFeesBin = binColByStepValue(rddAggFees, headers.indexOf(colAggregateFee), 2)\n",
    "headers = headers :+ colAggregateFeeBin"
   ],
   "outputs": [
    {
     "data": {
      "text/plain": [
       "addAggregateFees: (rdd: org.apache.spark.rdd.RDD[org.apache.spark.sql.Row], headers: Seq[String], colOfFees: Set[String])org.apache.spark.rdd.RDD[org.apache.spark.sql.Row]\n",
       "rddAggFees: org.apache.spark.rdd.RDD[org.apache.spark.sql.Row] = MapPartitionsRDD[14] at map at <console>:40\n",
       "headers: Seq[String] = ArraySeq(tpep_pickup_datetime, tpep_dropoff_datetime, passenger_count, trip_distance, ratecodeid, store_and_fwd_flag, payment_type, fare_amount, extra, mta_tax, tip_amount, tolls_amount, improvement_surcharge, total_amount, congestion_surcharge, airport_fee, duration_minutes, year, duration_minutes_bin_label, overnight_duration, overnight_duration_pcg, regular_duration, regular_duration_pcg, weekday_surcharge, fees, agg_fee_bin_label)\n",
       "rddAggFeesBin: org.apache.spark.rdd.RDD[org.apache.spa...\n"
      ]
     },
     "execution_count": 10,
     "metadata": {},
     "output_type": "execute_result"
    }
   ],
   "execution_count": 10
  },
  {
   "metadata": {},
   "cell_type": "markdown",
   "source": "6) Add price per mile and minute",
   "id": "2612d914aaba250d"
  },
  {
   "cell_type": "code",
   "id": "7a05a60d734daf56",
   "metadata": {
    "ExecuteTime": {
     "end_time": "2025-05-30T14:06:01.862643Z",
     "start_time": "2025-05-30T14:06:01.203256Z"
    }
   },
   "source": [
    "def addPricePerDistanceAndTime(rdd: RDD[Row], headers: Seq[String], colFareAmount: String, colDuration: String, colDistance: String): RDD[Row] = {\n",
    "  rdd.map { row =>\n",
    "    val pricePerTime = Math.round(row.getAs[Double](headers.indexOf(colFareAmount)) / row.getAs[Double](headers.indexOf(colDuration)) * 100) / 100.0\n",
    "    val pricePerDistance = Math.round(row.getAs[Double](headers.indexOf(colFareAmount)) / row.getAs[Double](headers.indexOf(colDistance)) * 100) / 100.0\n",
    "\n",
    "    Row.fromSeq(row.toSeq ++ Seq(pricePerTime, pricePerDistance))\n",
    "  }\n",
    "}\n",
    "\n",
    "val rddPriced = addPricePerDistanceAndTime(rddAggFeesBin, headers, colFareAmount, colDurationMinutes, \"trip_distance\")\n",
    "headers = headers ++ Seq(colPricePerTime, colPricePerDistance)"
   ],
   "outputs": [
    {
     "data": {
      "text/plain": [
       "addPricePerDistanceAndTime: (rdd: org.apache.spark.rdd.RDD[org.apache.spark.sql.Row], headers: Seq[String], colFareAmount: String, colDuration: String, colDistance: String)org.apache.spark.rdd.RDD[org.apache.spark.sql.Row]\n",
       "rddPriced: org.apache.spark.rdd.RDD[org.apache.spark.sql.Row] = MapPartitionsRDD[16] at map at <console>:40\n",
       "headers: Seq[String] = ArraySeq(tpep_pickup_datetime, tpep_dropoff_datetime, passenger_count, trip_distance, ratecodeid, store_and_fwd_flag, payment_type, fare_amount, extra, mta_tax, tip_amount, tolls_amount, improvement_surcharge, total_amount, congestion_surcharge, airport_fee, duration_minutes, year, duration_minutes_bin_label, overnight_duration, overnight_duration_pcg, regular_duration, regular_duration_pcg, weekday_surcharge, fees, agg_fee_bin_label, cost...\n"
      ]
     },
     "execution_count": 11,
     "metadata": {},
     "output_type": "execute_result"
    }
   ],
   "execution_count": 11
  },
  {
   "metadata": {},
   "cell_type": "markdown",
   "source": "7) Discretize distance and duration in overnight time zone",
   "id": "86d18a3f7203c64e"
  },
  {
   "metadata": {
    "ExecuteTime": {
     "end_time": "2025-05-30T14:06:02.109823Z",
     "start_time": "2025-05-30T14:06:01.868788Z"
    }
   },
   "cell_type": "code",
   "source": [
    "val rddDistBin = binColByStepValue(rddPriced, headers.indexOf(\"trip_distance\"), 5)\n",
    "headers = headers :+ colDistanceBin\n",
    "\n",
    "val rddOvernightBin = binColByStepValue(rddDistBin, headers.indexOf(colDurationOvernightPcg), 5)\n",
    "headers = headers :+ (colDurationOvernightPcg + \"_label\")"
   ],
   "id": "d8c2b74844f233ba",
   "outputs": [
    {
     "data": {
      "text/plain": [
       "rddDistBin: org.apache.spark.rdd.RDD[org.apache.spark.sql.Row] = MapPartitionsRDD[17] at map at <console>:39\n",
       "headers: Seq[String] = ArraySeq(tpep_pickup_datetime, tpep_dropoff_datetime, passenger_count, trip_distance, ratecodeid, store_and_fwd_flag, payment_type, fare_amount, extra, mta_tax, tip_amount, tolls_amount, improvement_surcharge, total_amount, congestion_surcharge, airport_fee, duration_minutes, year, duration_minutes_bin_label, overnight_duration, overnight_duration_pcg, regular_duration, regular_duration_pcg, weekday_surcharge, fees, agg_fee_bin_label, cost_per_time, cost_per_distance, distance_bin_label, overnight_duration_pcg_label)\n",
       "rddOvernightBin: org.apache.spark.rdd.RDD[org.apache.spark.sql.Row] = MapPartitionsRDD[18] at map at <console>:39\n",
       "headers: Seq[String] = Array...\n"
      ]
     },
     "execution_count": 12,
     "metadata": {},
     "output_type": "execute_result"
    }
   ],
   "execution_count": 12
  },
  {
   "metadata": {},
   "cell_type": "markdown",
   "source": "8) Add key for average calculation based on columns for classification",
   "id": "6419c663ec4fef40"
  },
  {
   "metadata": {
    "ExecuteTime": {
     "end_time": "2025-05-30T14:06:02.415222Z",
     "start_time": "2025-05-30T14:06:02.114465Z"
    }
   },
   "cell_type": "code",
   "source": [
    "val actualHeader = headers\n",
    "def addKey(rdd: RDD[Row], colsClassification: Seq[String], headers: Seq[String]): RDD[(String, Row)] = {\n",
    "  rdd.map { row =>\n",
    "    val key = colsClassification.filter(col => headers.contains(col.toLowerCase))\n",
    "    .map(col => row.get(headers.indexOf(col.toLowerCase)))\n",
    "    .mkString(\"_\")\n",
    "    (key, row)\n",
    "  }\n",
    "}\n",
    "\n",
    "val rddWithKey = addKey(rddOvernightBin, colsForClassification, actualHeader)"
   ],
   "id": "3b88a93a6da25df1",
   "outputs": [
    {
     "data": {
      "text/plain": [
       "actualHeader: Seq[String] = ArraySeq(tpep_pickup_datetime, tpep_dropoff_datetime, passenger_count, trip_distance, ratecodeid, store_and_fwd_flag, payment_type, fare_amount, extra, mta_tax, tip_amount, tolls_amount, improvement_surcharge, total_amount, congestion_surcharge, airport_fee, duration_minutes, year, duration_minutes_bin_label, overnight_duration, overnight_duration_pcg, regular_duration, regular_duration_pcg, weekday_surcharge, fees, agg_fee_bin_label, cost_per_time, cost_per_distance, distance_bin_label, overnight_duration_pcg_label)\n",
       "addKey: (rdd: org.apache.spark.rdd.RDD[org.apache.spark.sql.Row], colsClassification: Seq[String], headers: Seq[String])org.apache.spark.rdd.RDD[(String, org.apache.spark.sql.Row)]\n",
       "rddWithKey: org.apache.spark.rdd.RDD[(String, org.apache.spark.sq...\n"
      ]
     },
     "execution_count": 13,
     "metadata": {},
     "output_type": "execute_result"
    }
   ],
   "execution_count": 13
  },
  {
   "metadata": {},
   "cell_type": "markdown",
   "source": "9) Calculate prices per distance and time",
   "id": "d200896a8f8a49d5"
  },
  {
   "metadata": {
    "ExecuteTime": {
     "end_time": "2025-05-30T14:06:02.702248Z",
     "start_time": "2025-05-30T14:06:02.420219Z"
    }
   },
   "cell_type": "code",
   "source": [
    "def calculatePrices(rdd: RDD[(String, Row)], headers: Seq[String], colPriceDistance: String, colPriceTime: String): RDD[(String, (Double, Double, Long))] = {\n",
    "  rdd.mapValues { row =>\n",
    "    val costPerDistance = row.getAs[Double](headers.indexOf(colPriceDistance))\n",
    "    val costPerTime = row.getAs[Double](headers.indexOf(colPriceTime))\n",
    "    (costPerDistance, costPerTime, 1L)\n",
    "  }\n",
    "}\n",
    "\n",
    "val rddForAvg = calculatePrices(rddWithKey, headers, colPricePerDistance, colPricePerTime)"
   ],
   "id": "85e4e86bc9992218",
   "outputs": [
    {
     "data": {
      "text/plain": [
       "calculatePrices: (rdd: org.apache.spark.rdd.RDD[(String, org.apache.spark.sql.Row)], headers: Seq[String], colPriceDistance: String, colPriceTime: String)org.apache.spark.rdd.RDD[(String, (Double, Double, Long))]\n",
       "rddForAvg: org.apache.spark.rdd.RDD[(String, (Double, Double, Long))] = MapPartitionsRDD[20] at mapValues at <console>:38\n"
      ]
     },
     "execution_count": 14,
     "metadata": {},
     "output_type": "execute_result"
    }
   ],
   "execution_count": 14
  },
  {
   "metadata": {},
   "cell_type": "markdown",
   "source": "10) Calculate average prices per distance and time",
   "id": "ab90fed37146ba50"
  },
  {
   "metadata": {
    "ExecuteTime": {
     "end_time": "2025-05-30T14:06:03.241736Z",
     "start_time": "2025-05-30T14:06:02.706776Z"
    }
   },
   "cell_type": "code",
   "source": [
    "def calculateAvgPrices(rdd: RDD[(String, (Double, Double, Long))], decimals: Int): RDD[(String, (Double, Double))] = {\n",
    "  rdd.aggregateByKey((0.0, 0.0, 0L))((acc, v) => (acc._1 + v._1, acc._2 + v._2, acc._3 + v._3), (a, b) => (a._1 + b._1, a._2 + b._2, a._3 + b._3)).mapValues {\n",
    "    case(sumDist, sumTime, count) =>\n",
    "      val avgDist = BigDecimal(sumDist / count).setScale(decimals, BigDecimal.RoundingMode.HALF_UP).toDouble\n",
    "      val avgTime = BigDecimal(sumTime / count).setScale(decimals, BigDecimal.RoundingMode.HALF_UP).toDouble\n",
    "      (avgDist, avgTime)\n",
    "  }.filter { case(_, (dist, time)) => dist > 0.0 && time > 0.0 }\n",
    "}\n",
    "\n",
    "val rddWithAvgPrices = calculateAvgPrices(rddForAvg, decimals)"
   ],
   "id": "6c3896dc99dbd31b",
   "outputs": [
    {
     "data": {
      "text/plain": [
       "calculateAvgPrices: (rdd: org.apache.spark.rdd.RDD[(String, (Double, Double, Long))], decimals: Int)org.apache.spark.rdd.RDD[(String, (Double, Double))]\n",
       "rddWithAvgPrices: org.apache.spark.rdd.RDD[(String, (Double, Double))] = MapPartitionsRDD[23] at filter at <console>:41\n"
      ]
     },
     "execution_count": 15,
     "metadata": {},
     "output_type": "execute_result"
    }
   ],
   "execution_count": 15
  },
  {
   "metadata": {},
   "cell_type": "markdown",
   "source": "11) Join average prices to previous rdd",
   "id": "2b46c67228dd6352"
  },
  {
   "metadata": {
    "ExecuteTime": {
     "end_time": "2025-05-30T14:06:03.670854Z",
     "start_time": "2025-05-30T14:06:03.246889Z"
    }
   },
   "cell_type": "code",
   "source": [
    "def applyJoin(rdd: RDD[(String, Row)], rddToJoin: RDD[(String, (Double, Double))]): RDD[Row] = {\n",
    "  rdd.join(rddToJoin).map { case (_, (originalRow, (avgCostPerDistance, avgCostPerTime))) =>\n",
    "    Row.fromSeq(originalRow.toSeq ++ Seq(avgCostPerDistance, avgCostPerTime))\n",
    "  }\n",
    "}\n",
    "\n",
    "val rddJoined = applyJoin(rddWithKey, rddWithAvgPrices)\n",
    "headers = headers ++ Seq(colAvgPricePerDistance, colAvgPricePerTime)"
   ],
   "id": "c7da5320936ec0fa",
   "outputs": [
    {
     "data": {
      "text/plain": [
       "applyJoin: (rdd: org.apache.spark.rdd.RDD[(String, org.apache.spark.sql.Row)], rddToJoin: org.apache.spark.rdd.RDD[(String, (Double, Double))])org.apache.spark.rdd.RDD[org.apache.spark.sql.Row]\n",
       "rddJoined: org.apache.spark.rdd.RDD[org.apache.spark.sql.Row] = MapPartitionsRDD[27] at map at <console>:39\n",
       "headers: Seq[String] = ArraySeq(tpep_pickup_datetime, tpep_dropoff_datetime, passenger_count, trip_distance, ratecodeid, store_and_fwd_flag, payment_type, fare_amount, extra, mta_tax, tip_amount, tolls_amount, improvement_surcharge, total_amount, congestion_surcharge, airport_fee, duration_minutes, year, duration_minutes_bin_label, overnight_duration, overnight_duration_pcg, regular_duration, regular_duration_pcg, weekday_surcharge, fees, agg_fee_bin_label, cost_per_time, cost_per_distance,...\n"
      ]
     },
     "execution_count": 16,
     "metadata": {},
     "output_type": "execute_result"
    }
   ],
   "execution_count": 16
  },
  {
   "metadata": {},
   "cell_type": "markdown",
   "source": "12) Add price comparison w.r.t. average price and actual price difference",
   "id": "b97ec9d1cf2b66bf"
  },
  {
   "metadata": {
    "ExecuteTime": {
     "end_time": "2025-05-30T14:06:04.128030Z",
     "start_time": "2025-05-30T14:06:03.675558Z"
    }
   },
   "cell_type": "code",
   "source": [
    "def addPriceComparison(rdd: RDD[Row], headers: Seq[String], colPriceDistance: String, colAvgPriceDistance: String, colPriceTime: String, colAvgPriceTime: String, decimals: Int) = {\n",
    "  rdd.map { row =>\n",
    "    val priceColsToAdd: Seq[Double] = Seq((colPriceDistance, colAvgPriceDistance), (colPriceTime, colAvgPriceTime))\n",
    "      .flatMap { case (colPrice, colAvgPrice) =>\n",
    "        val price = row.getAs[Double](headers.indexOf(colPrice))\n",
    "        val priceAvg = row.getAs[Double](headers.indexOf(colAvgPrice))\n",
    "        val priceDiff = BigDecimal(price - priceAvg).setScale(decimals, BigDecimal.RoundingMode.HALF_UP).toDouble\n",
    "        val priceDiffPcg = BigDecimal(priceDiff / priceAvg * 100).setScale(decimals, BigDecimal.RoundingMode.HALF_UP).toDouble\n",
    "\n",
    "        Seq(priceDiff, priceDiffPcg)\n",
    "      }\n",
    "    Row.fromSeq(row.toSeq ++ priceColsToAdd)\n",
    "  }\n",
    "}\n",
    "\n",
    "val rddPriceComparison = addPriceComparison(rddJoined, headers, colPricePerDistance, colAvgPricePerDistance, colPricePerTime, colAvgPricePerTime, decimals)\n",
    "headers = headers ++ Seq(colPricePerDistanceDiff, colPricePerDistanceDiffPcg, colPricePerTimeDiff, colPricePerTimeDiffPcg)"
   ],
   "id": "794982d2cb593fd2",
   "outputs": [
    {
     "data": {
      "text/plain": [
       "addPriceComparison: (rdd: org.apache.spark.rdd.RDD[org.apache.spark.sql.Row], headers: Seq[String], colPriceDistance: String, colAvgPriceDistance: String, colPriceTime: String, colAvgPriceTime: String, decimals: Int)org.apache.spark.rdd.RDD[org.apache.spark.sql.Row]\n",
       "rddPriceComparison: org.apache.spark.rdd.RDD[org.apache.spark.sql.Row] = MapPartitionsRDD[28] at map at <console>:45\n",
       "headers: Seq[String] = ArraySeq(tpep_pickup_datetime, tpep_dropoff_datetime, passenger_count, trip_distance, ratecodeid, store_and_fwd_flag, payment_type, fare_amount, extra, mta_tax, tip_amount, tolls_amount, improvement_surcharge, total_amount, congestion_surcharge, airport_fee, duration_minutes, year, duration_minutes_bin_label, overnight_duration, overnight_duration_pcg, regular_duration, regular_duration_...\n"
      ]
     },
     "execution_count": 17,
     "metadata": {},
     "output_type": "execute_result"
    }
   ],
   "execution_count": 17
  },
  {
   "metadata": {},
   "cell_type": "markdown",
   "source": "13) Bin price difference per time and distance",
   "id": "988b3766e90e9789"
  },
  {
   "metadata": {
    "ExecuteTime": {
     "end_time": "2025-05-30T14:06:04.280236Z",
     "start_time": "2025-05-30T14:06:04.133592Z"
    }
   },
   "cell_type": "code",
   "source": [
    "val rddPriceDistBin = binColByStepValue(rddPriceComparison,headers.indexOf(colPricePerDistanceDiffPcg), 5)\n",
    "val rddPriceDistTimeBin = binColByStepValue(rddPriceDistBin, headers.indexOf(colPricePerTimeDiffPcg), 5)\n",
    "\n",
    "headers = headers ++ Seq(colPricePerDistanceDiffPcgLabel, colPricePerTimeDiffPcgLabel)"
   ],
   "id": "d43c4991694d18f9",
   "outputs": [
    {
     "data": {
      "text/plain": [
       "rddPriceDistBin: org.apache.spark.rdd.RDD[org.apache.spark.sql.Row] = MapPartitionsRDD[29] at map at <console>:39\n",
       "rddPriceDistTimeBin: org.apache.spark.rdd.RDD[org.apache.spark.sql.Row] = MapPartitionsRDD[30] at map at <console>:39\n",
       "headers: Seq[String] = ArraySeq(tpep_pickup_datetime, tpep_dropoff_datetime, passenger_count, trip_distance, ratecodeid, store_and_fwd_flag, payment_type, fare_amount, extra, mta_tax, tip_amount, tolls_amount, improvement_surcharge, total_amount, congestion_surcharge, airport_fee, duration_minutes, year, duration_minutes_bin_label, overnight_duration, overnight_duration_pcg, regular_duration, regular_duration_pcg, weekday_surcharge, fees, agg_fee_bin_label, cost_per_time, cost_per_distance, distance_bin_label, overnight_duration_pcg_label, avg_cost_per_distan...\n"
      ]
     },
     "execution_count": 18,
     "metadata": {},
     "output_type": "execute_result"
    }
   ],
   "execution_count": 18
  },
  {
   "metadata": {},
   "cell_type": "markdown",
   "source": "14) Reduce to analysis columns only",
   "id": "d55dcfcdf1b91809"
  },
  {
   "metadata": {
    "ExecuteTime": {
     "end_time": "2025-05-30T14:06:12.884343Z",
     "start_time": "2025-05-30T14:06:04.284364Z"
    }
   },
   "cell_type": "code",
   "source": [
    "val headersForAnalysis = headers.zipWithIndex.filter(head => colsForClassification.contains(head._1.toLowerCase))\n",
    "\n",
    "val headersForAnalysisIdxs = headersForAnalysis.map(_._2)\n",
    "val headersForAnalysisCols = headersForAnalysis.map(_._1)\n",
    "\n",
    "def reduceToAnalysis(rdd: RDD[Row], idxs: Seq[Int]): RDD[Row] = {\n",
    "  rdd.map { row =>\n",
    "    Row.fromSeq(idxs.map(row.get))\n",
    "  }\n",
    "}\n",
    "\n",
    "val rddAnalysis = reduceToAnalysis(rddPriceDistTimeBin, headersForAnalysisIdxs)\n",
    "\n",
    "val totalCount = rdd.count()"
   ],
   "id": "c56a14f69be905a0",
   "outputs": [
    {
     "data": {
      "text/plain": [
       "headersForAnalysis: Seq[(String, Int)] = ArraySeq((passenger_count,2), (store_and_fwd_flag,5), (payment_type,6), (year,17), (duration_minutes_bin_label,18), (agg_fee_bin_label,25), (distance_bin_label,28), (overnight_duration_pcg_label,29), (cost_per_distance_diff_pcg_label,36), (cost_per_time_diff_pcg_label,37))\n",
       "headersForAnalysisIdxs: Seq[Int] = ArraySeq(2, 5, 6, 17, 18, 25, 28, 29, 36, 37)\n",
       "headersForAnalysisCols: Seq[String] = ArraySeq(passenger_count, store_and_fwd_flag, payment_type, year, duration_minutes_bin_label, agg_fee_bin_label, distance_bin_label, overnight_duration_pcg_label, cost_per_distance_diff_pcg_label, cost_per_time_diff_pcg_label)\n",
       "reduceToAnalysis: (rdd: org.apache.spark.rdd.RDD[org.apache.spark.sql.Row], idxs: Seq[Int])org.apache.spark.rdd.RDD[org.apache.spark.sql...\n"
      ]
     },
     "execution_count": 19,
     "metadata": {},
     "output_type": "execute_result"
    }
   ],
   "execution_count": 19
  },
  {
   "metadata": {},
   "cell_type": "markdown",
   "source": "15) Group by feature value",
   "id": "9f6cdebc4d24c9de"
  },
  {
   "metadata": {
    "ExecuteTime": {
     "end_time": "2025-05-30T14:06:15.554539Z",
     "start_time": "2025-05-30T14:06:12.889154Z"
    }
   },
   "cell_type": "code",
   "source": [
    "def groupByFeatures(rdd: RDD[Row], colForValuesAnalysis: Seq[String], colPriceDistanceDiffPcgLabel: String, colPriceTimeDiffPcgLabel: String, headersAnalysis: Seq[String], decimals: Int, totalCount: Long): Seq[RDD[Row]] = {\n",
    "  colForValuesAnalysis.map { colName =>\n",
    "    val groupCols = Seq(colPriceDistanceDiffPcgLabel, colPriceTimeDiffPcgLabel):+ colName\n",
    "    val grouped = rdd.map { row =>\n",
    "      val key = groupCols.map(col => row.get(headersAnalysis.indexOf(col.toLowerCase)))\n",
    "      (key, 1)\n",
    "    }.reduceByKey(_ + _).map { case (keySeq, count) =>\n",
    "      val value = keySeq.last.toString\n",
    "      val costDistLabel = keySeq(0).toString\n",
    "      val costTimeLabel = keySeq(1).toString\n",
    "      val pcg = BigDecimal(count.toDouble / totalCount * 100).setScale(decimals, BigDecimal.RoundingMode.HALF_UP).toDouble\n",
    "      Row.fromSeq(Seq(colName, value, count, pcg, costDistLabel, costTimeLabel))\n",
    "    }\n",
    "    grouped\n",
    "  }\n",
    "}\n",
    "\n",
    "val rddFeatures = groupByFeatures(rddAnalysis, colsForValuesAnalysis, colPricePerDistanceDiffPcgLabel, colPricePerTimeDiffPcgLabel, headersForAnalysisCols, decimals, totalCount)"
   ],
   "id": "298184e06179fe88",
   "outputs": [
    {
     "data": {
      "text/plain": [
       "groupByFeatures: (rdd: org.apache.spark.rdd.RDD[org.apache.spark.sql.Row], colForValuesAnalysis: Seq[String], colPriceDistanceDiffPcgLabel: String, colPriceTimeDiffPcgLabel: String, headersAnalysis: Seq[String], decimals: Int, totalCount: Long)Seq[org.apache.spark.rdd.RDD[org.apache.spark.sql.Row]]\n",
       "rddFeatures: Seq[org.apache.spark.rdd.RDD[org.apache.spark.sql.Row]] = List(MapPartitionsRDD[34] at map at <console>:46, MapPartitionsRDD[37] at map at <console>:46, MapPartitionsRDD[40] at map at <console>:46, MapPartitionsRDD[43] at map at <console>:46, MapPartitionsRDD[46] at map at <console>:46, MapPartitionsRDD[49] at map at <console>:46, MapPartitionsRDD[52] at map at <console>:46, MapPartitionsRDD[55] at map at <console>:46)\n"
      ]
     },
     "execution_count": 20,
     "metadata": {},
     "output_type": "execute_result"
    }
   ],
   "execution_count": 20
  },
  {
   "metadata": {},
   "cell_type": "markdown",
   "source": "16) Reduce to single rdd and write output",
   "id": "795fbb90ba3dc7a9"
  },
  {
   "metadata": {
    "jupyter": {
     "is_executing": true
    },
    "ExecuteTime": {
     "start_time": "2025-05-30T14:06:15.560081Z"
    }
   },
   "cell_type": "code",
   "source": [
    "import org.apache.spark.sql.types._\n",
    "\n",
    "val headersForSchema = Seq(\n",
    "  StructField(\"feature\", StringType),\n",
    "  StructField(\"value\", StringType),\n",
    "  StructField(\"count\", IntegerType),\n",
    "  StructField(\"pcg\", DoubleType),\n",
    "  StructField(\"cost_distance_label\", StringType),\n",
    "  StructField(\"cost_time_label\", StringType)\n",
    ")\n",
    "\n",
    "val schema = StructType(headersForSchema)\n",
    "\n",
    "val dfForAnalysis = spark.createDataFrame(rddFeatures.reduce(_ union _).coalesce(1), schema)\n",
    "\n",
    "dfForAnalysis.show(1)\n",
    "val endTime = System.currentTimeMillis()\n",
    "val durationMs = endTime - startTime\n",
    "println(s\"Job $name-dataset non-optimized executed in $durationMs ms\")\n",
    "dfForAnalysis.write.mode(\"overwrite\").parquet(getDatasetPath(outputDir + f\"/$name\"))"
   ],
   "id": "f147c54fa9f01d8a",
   "outputs": [],
   "execution_count": null
  }
 ],
 "metadata": {
  "kernelspec": {
   "display_name": "spylon-kernel",
   "language": "scala",
   "name": "spylon-kernel"
  },
  "language_info": {
   "codemirror_mode": "text/x-scala",
   "file_extension": ".scala",
   "help_links": [
    {
     "text": "MetaKernel Magics",
     "url": "https://metakernel.readthedocs.io/en/latest/source/README.html"
    }
   ],
   "mimetype": "text/x-scala",
   "name": "scala",
   "pygments_lexer": "scala",
   "version": "0.4.1"
  }
 },
 "nbformat": 4,
 "nbformat_minor": 5
}
